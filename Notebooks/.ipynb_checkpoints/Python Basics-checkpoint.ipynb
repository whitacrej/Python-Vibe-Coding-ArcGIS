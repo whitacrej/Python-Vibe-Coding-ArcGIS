{
 "cells": [
  {
   "cell_type": "markdown",
   "metadata": {},
   "source": [
    "# Python Basics\n",
    "---"
   ]
  },
  {
   "cell_type": "markdown",
   "metadata": {},
   "source": [
    "## Description"
   ]
  },
  {
   "cell_type": "markdown",
   "metadata": {},
   "source": [
    "Python is now a standard feature within ArcGIS Pro and allow GIS users to automate, speed up, and become more robust in their data management and analytic work. This **Python Basics** Module is designed for ArcGIS Pro users who do not have much experience with Python coding to help them get up to speed on the basic Python concepts. This module should take about 1-2 hours to complete.\n",
    "\n",
    "*NOTE: Basic Python coding will not be covered in the presentation, so participants are expected to know some basic Python concepts such as syntax, variables, data types (strings, numbers, Booleans, lists, tuples, dictionaries, etc.) conditional statements, loops, functions, classes, and methods. These concepts are all covered below*"
   ]
  },
  {
   "cell_type": "markdown",
   "metadata": {},
   "source": [
    "# Outline\n",
    "---"
   ]
  },
  {
   "cell_type": "markdown",
   "metadata": {},
   "source": [
    "<table style=\"width: 95%; margin-left: auto; margin-right: auto;\">\n",
    "<thead>\n",
    "  <tbody>\n",
    "  <tr>\n",
    "    <td style=\"vertical-align: center; padding: 20px; font-size: large;\">\n",
    "\n",
    "[**I. Introduction**](#I.-Introduction)\n",
    "\n",
    "[**II. Data and Software**](#II.-Data-and-Software)\n",
    "* [ArcGIS Pro](#ArcGIS-Pro)\n",
    "* [ArcGIS Notebooks](#ArcGIS-Notebooks)\n",
    "\n",
    "[**III. Python Basics**](#III.-Python-Basics)\n",
    "* [What is Python?](#What-is-Python?)\n",
    "* [Print Function](#Print-Function)\n",
    "* [Variables](#Variables)\n",
    "* [Basic Data Types](#Basic-Data-Types)\n",
    "    * [Strings](#Strings)\n",
    "    * [Numbers](#Numbers)\n",
    "    * [Booleans](#Booleans)\n",
    "    * [Lists](#Lists)\n",
    "    * [Tuples](#Tuples)\n",
    "    * [Sets](#Sets)\n",
    "    * [Dictionaries](#Dictionaries)\n",
    "* [Data Type Conversion](#Data-Type-Conversion)\n",
    "* [Simple Math with Python](#Simple-Math-with-Python)\n",
    "* [Python Syntax and Style](#Python-Syntax-and-Style)\n",
    "* [Conditional Statements and Decision Making](#Conditional-Statements-and-Decision-Making)\n",
    "* [Loops](#Loops)\n",
    "* [Functions](#Functions)\n",
    "* [Classes and Methods](#Classes-and-Methods)</td>\n",
    "  </tr>\n",
    "</tbody>\n",
    "</table>"
   ]
  },
  {
   "cell_type": "markdown",
   "metadata": {},
   "source": [
    "# I. Introduction\n",
    "---\n",
    "[**Top**](#Outline)"
   ]
  },
  {
   "cell_type": "markdown",
   "metadata": {},
   "source": [
    "<img style=\"float: right; padding: 20px\" alt=\"Image of James Whitacre\" src=\"https://github.com/whitacrej/Python-Vibe-Coding-ArcGIS/blob/main/Notebooks/Images/JamesWhitacre.jpg?raw=true\" width=\"300\" height=\"300\" />\n",
    "\n",
    "### James Whitacre\n",
    "\n",
    "**Chief, GIS Services Division | Pennsylvania Game Commission**\n",
    "\n",
    "jawhitacre@pa.gov\n",
    "\n",
    "James Whitacre is Chief of the GIS Services Division of the Pennsylvania Game Commission where he leads, manages, and provides vision for the Agency's geospatial and mapping program. Formerly, he was the GIS Research Scientist for the Carnegie Museum of Natural History where he managed the GIS Lab at Powdermill Nature Reserve, the Museum's environmental research center, and supported museum staff and affiliated researchers with geospatial technologies and needs. Whitacre was also the GIS Manager from 2011 to 2014 at the Museum. Before returning to the Museum in 2018, Whitacre was the GIS Specialist for the Main Library at the University of Illinois at Urbana-Champaign where he provided GIS consultations for researchers and scholars, and taught GIS workshops to promote the use of GIS in research. Whitacre holds a Bachelor of Arts in Zoology from Ohio Wesleyan University and a Master of Science in Geography, concentrating on GIS and cartography, from Indiana University of Pennsylvania. Whitacre is former board member and Past President of Keystone GIS and is on the PA GIS Conference Planning Committee. He is also a voting member of the Pennsylvania State Geospatial Coordinating Board (PA GeoBoard), appointed by Pennsylvanian Governor Josh Shapiro."
   ]
  },
  {
   "cell_type": "markdown",
   "metadata": {},
   "source": [
    "# II. Data and Software\n",
    "---\n",
    "[**Top**](#Outline)"
   ]
  },
  {
   "cell_type": "markdown",
   "metadata": {},
   "source": [
    "## ArcGIS Pro"
   ]
  },
  {
   "cell_type": "markdown",
   "metadata": {},
   "source": [
    "* Recommended to use latest version 3.5+\n",
    "* Minimum version of 2.7+ required\n",
    "\n",
    "**See [ArcGIS Pro Documentation](https://www.esri.com/en-us/arcgis/products/arcgis-pro/resources)**"
   ]
  },
  {
   "cell_type": "markdown",
   "metadata": {},
   "source": [
    "## ArcGIS Notebooks"
   ]
  },
  {
   "cell_type": "markdown",
   "metadata": {},
   "source": [
    "* Built on top of **[Jupyter Notebook](https://jupyter.org/)**\n",
    "* Included and integrated with ArcGIS Pro (starting at version 2.5)\n",
    "* Optimized for ArcGIS Pro and Python 3\n",
    "* Used to easily and quickly write and run code directly in ArcGIS Pro\n",
    "\n",
    "\n",
    "### Python in ArcGIS Notebooks\n",
    "\n",
    "* Can perform analysis and immediately view results in a geographic context, interact with the emerging data, document and automate your workflow, and save it for later use or share it\n",
    "* ALL Python functionality in ArcGIS Pro is available through ArcGIS Notebooks\n",
    "* Provides access to content in your map allowing for interactive workflows\n",
    "\n",
    "\n",
    "### Markdown and HTML in ArcGIS Notebooks\n",
    "\n",
    "* ArcGIS Notebooks utilize Markdown and HTML markup languages to format Markdown cells in a Notebook\n",
    "* Markdown:\n",
    "    * Lightweight markup language that you can use to add formatting elements to plaintext text documents\n",
    "    * One of the world’s most popular markup languages\n",
    "    * Markdown syntax is added to text to indicate which words and phrases should look different\n",
    "* HTML:\n",
    "    * Stands for Hyper Text Markup Language\n",
    "    * The standard markup language for creating Web pages\n",
    "    * Describes the structure of a Web page and tell the browser how to display the content\n",
    "* This Notebook uses Markdown and HTML **EXTENSIVLEY** to make it look the way it does!\n",
    "* We will not go over Markdown in detail, but will a little bit\n",
    "\n",
    "\n",
    "**See:**\n",
    "* **[ArcGIS Notebooks Get Started](https://pro.arcgis.com/en/pro-app/arcpy/get-started/pro-notebooks.htm)**\n",
    "* **[The Markdown Guide](https://www.markdownguide.org/)**\n",
    "* **[W3 Schools HTML Tutorial](https://www.w3schools.com/html/html_intro.asp)**"
   ]
  },
  {
   "cell_type": "markdown",
   "metadata": {},
   "source": [
    "### Create a new ArcGIS Notebook"
   ]
  },
  {
   "cell_type": "markdown",
   "metadata": {},
   "source": [
    "<img style=\"float: right; padding: 20px\" alt=\"ArcGIS Notebook\" width=\"539px\" src=\"https://pro.arcgis.com/en/pro-app/latest/arcpy/get-started/GUID-A23406B5-1690-4694-AC77-6A18D3E8F18C-web.png\" />\n",
    "\n",
    "* Click the **Insert** tab, and click the **New Notebook** dropdown, and click <img style=\"display: inline-block; vertical-align: bottom;\" alt=\"New Notebook\" title=\"New Notebook\" src=\"https://pro.arcgis.com/en/pro-app/latest/arcpy/get-started/GUID-81D9C66A-5C7F-49D4-9F62-0CDDD212114F-web.png\" width=\"20\"> **New Notebook**\n",
    "* In the **Catalog Pane**, **right-click on the folder** where you want to create it, click **New** (at the top), the click <img style=\"display: inline-block; vertical-align: bottom;\" alt=\"New Notebook\" title=\"New Notebook\" src=\"https://pro.arcgis.com/en/pro-app/arcpy/get-started/GUID-81D9C66A-5C7F-49D4-9F62-0CDDD212114F-web.png\" width=\"20\"> **Notebook**\n",
    "\n",
    "#### **We will be using ArcGIS Notebooks for nearly all our coding int he workshop!!!**\n",
    "#### **I will go over tips and tricks as we go!**"
   ]
  },
  {
   "cell_type": "markdown",
   "metadata": {},
   "source": [
    "# III. Python Basics\n",
    "\n",
    "---\n",
    "[**Top**](#Outline)"
   ]
  },
  {
   "cell_type": "markdown",
   "metadata": {},
   "source": [
    "## What is Python?\n",
    "[**Top**](#Outline)"
   ]
  },
  {
   "cell_type": "markdown",
   "metadata": {},
   "source": [
    "* Python is an interpreted, object-oriented, high-level programming language with dynamic semantics\n",
    "* Good for scripting and for application development\n",
    "* Simple, easy to learn syntax emphasizing readability (**Great for beginners!!!**)\n",
    "* Has high-level built in data structures\n",
    "* Supports modules, libraries, and packages, which encourages program modularity and code reuse\n",
    "* Increases productivity due to no compilation step\n",
    "* Debugging Python programs is easy; often the quickest way to debug a program is to add a few `print` statements to the code\n",
    "* Open-source and freely distributed\n",
    "\n",
    "**See [Python Software Foundation: What is Python Executive Summary](https://www.python.org/doc/essays/blurb/) for more information**\n",
    "\n",
    "**See [Python in ArcGIS Pro](https://pro.arcgis.com/en/pro-app/latest/arcpy/get-started/installing-python-for-arcgis-pro.htm)**"
   ]
  },
  {
   "cell_type": "markdown",
   "metadata": {},
   "source": [
    "### Some General Notes and Tips "
   ]
  },
  {
   "cell_type": "markdown",
   "metadata": {},
   "source": [
    "* Learning a programming language is like learning a new foreign language\n",
    "    * There is grammar, or syntax\n",
    "    * There is vocabulary, or tools, functions, methods, and modules\n",
    "    * It's a new way of thinking\n",
    "* People will refer to good code as being *'Pythonic'*\n",
    "* Just like in ArcGIS, there is more than one way to do many things!\n",
    "* Python and ArcGIS documentation sources are invaluable!!\n",
    "    * You should reference them often and always have them ready when you are actively coding!!\n",
    "    * Developing the skills to read and understand documentation is ESSENTIAL!!\n",
    "    * Developing the skills to search for Python code examples is also ESSENTIAL!! Why write code when someone has already done for you!\n",
    "\n",
    "**Disclaimer: This module is specific to ArcGIS and covers the most important elements that have been found to be helpful for beginners. Other Python instructors might emphasize other aspects more than I may.**"
   ]
  },
  {
   "cell_type": "markdown",
   "metadata": {},
   "source": [
    "### Print Function\n",
    "[**Top**](#Outline)"
   ]
  },
  {
   "cell_type": "markdown",
   "metadata": {},
   "source": [
    "* What is the `print()` function?\n",
    "    * A way to make your script talk back to you\n",
    "    * A way to see what a variable is\n",
    "    * It is used frequently!!\n",
    "\n",
    "\n",
    "* How to use the print function\n",
    "    * Type `print()`*\n",
    "    * Add the variable or string within the parentheses `()`\n",
    "\n",
    "**Using just `print` without `()` is improper syntax in Python 3. In Python 2 `print` without `()` is actually proper syntax. You should be aware of this if you are working with older code intended for Python 2.**"
   ]
  },
  {
   "cell_type": "code",
   "execution_count": null,
   "metadata": {},
   "outputs": [],
   "source": [
    "# Click Run above to run the code\n",
    "# Or hit Ctrl + Enter on the keyboard!\n",
    "\n",
    "# This WILL work in Python 2 and Python 3!!!\n",
    "print('Python is so cool!')"
   ]
  },
  {
   "cell_type": "code",
   "execution_count": null,
   "metadata": {
    "scrolled": true
   },
   "outputs": [],
   "source": [
    "# This WILL NOT work in Python 3 (i.e., ArcGIS Pro)\n",
    "print 'Python is so cool!'"
   ]
  },
  {
   "cell_type": "code",
   "execution_count": null,
   "metadata": {},
   "outputs": [],
   "source": [
    "# Printing multiple arguments\n",
    "import os # We'll talk about this later!!\n",
    "print('My name is', os.getlogin(), 'and I am', 40)"
   ]
  },
  {
   "cell_type": "markdown",
   "metadata": {},
   "source": [
    "#### Your turn!\n",
    "\n",
    "1. Add a new cell below \n",
    "2. Type a `print` statement!"
   ]
  },
  {
   "cell_type": "markdown",
   "metadata": {},
   "source": [
    "### Variables\n",
    "[**Top**](#Outline)"
   ]
  },
  {
   "cell_type": "markdown",
   "metadata": {},
   "source": [
    "* What is a variable?\n",
    "    * Reserved memory locations to store values for repeated use in the code\n",
    "    * When you create a variable you reserve space in memory for the value\n",
    "    * Stored as a specific data type (e.g., string, integer, floating point, list, dictionary, etc.)\n",
    "    * Value and data type can be changed, or reassigned, very simply\n",
    "\n",
    "* How to set, or declare, a variable\n",
    "    * No explicit declaration needed\n",
    "    * Type a descriptive word that represent what you want to store for use later\n",
    "    * Type the equals sign: `=`\n",
    "    * Type what the variable equals"
   ]
  },
  {
   "cell_type": "code",
   "execution_count": null,
   "metadata": {},
   "outputs": [],
   "source": [
    "# Create variables\n",
    "food = 'cheese'\n",
    "food_count = 6"
   ]
  },
  {
   "cell_type": "code",
   "execution_count": null,
   "metadata": {},
   "outputs": [],
   "source": [
    "print(food)\n",
    "print(food_count)"
   ]
  },
  {
   "cell_type": "markdown",
   "metadata": {},
   "source": [
    "#### Cool tips..."
   ]
  },
  {
   "cell_type": "code",
   "execution_count": null,
   "metadata": {},
   "outputs": [],
   "source": [
    "# Create multiple variables\n",
    "food, food_count = 'bread', 100"
   ]
  },
  {
   "cell_type": "code",
   "execution_count": null,
   "metadata": {},
   "outputs": [],
   "source": [
    "print(food)\n",
    "print(food_count)"
   ]
  },
  {
   "cell_type": "code",
   "execution_count": null,
   "metadata": {},
   "outputs": [],
   "source": [
    "# Make mulitple variables the same value\n",
    "food1 = food2 = food3 = 'banana'"
   ]
  },
  {
   "cell_type": "code",
   "execution_count": null,
   "metadata": {},
   "outputs": [],
   "source": [
    "print(food1)\n",
    "print(food2)\n",
    "print(food3)"
   ]
  },
  {
   "cell_type": "markdown",
   "metadata": {},
   "source": [
    "### Basic Data Types\n",
    "[**Top**](#Outline)"
   ]
  },
  {
   "cell_type": "markdown",
   "metadata": {},
   "source": [
    "| Data Type | Examples |\n",
    "|:--- |:---|\n",
    "| String | **`“cheese”`** or **`'Food Time'`** |\n",
    "| Integer Number | **`68`** or **`23456`** or **`0`** |\n",
    "| Float Number | **`345.67`** or **`28.1`** or **`98.0`** |\n",
    "| Boolean | **`True`** or **`False`** |\n",
    "| List | **`[“apple”, “orange”]`** |\n",
    "| Tuple | **`(“apple”, “orange”)`** |\n",
    "| Dictionary | **`{“lat”:39.799, “lon”:-89.64}`** |"
   ]
  },
  {
   "cell_type": "markdown",
   "metadata": {
    "collapsed": true,
    "jupyter": {
     "outputs_hidden": true
    }
   },
   "source": [
    "### Strings\n",
    "[**Top**](#Outline)"
   ]
  },
  {
   "cell_type": "markdown",
   "metadata": {
    "collapsed": true,
    "jupyter": {
     "outputs_hidden": true
    }
   },
   "source": [
    "* What is a string?\n",
    "    * Contiguous set of characters represented in quotation marks\n",
    "    * Simply put, it is text values\n",
    "    * Number characters are not treated like numbers (i.e., `1 != '1'`)\n",
    "\n",
    "\n",
    "* What can you do with a string?\n",
    "    * Concatenation\t(ex: `'cheese ' + 'whiz'` will equal `'cheese whiz'`) *Note the space!!*\n",
    "        * Plus (+) sign is the string concatenation operator (can only operate on all string values: `'cheese' + 1` is an error)\n",
    "        * Asterisk (*) is the repetition operator: `'cheese' ** 3` is `'cheesecheesecheese'`\n",
    "\n",
    "    * Slicing (e.g.:  `'cheese'[1:4]` will equal `'hee'` as the index starts a 0)\n",
    "\n",
    "| String Slicing |\n",
    "|:---: |\n",
    "| ![Python Slicing](https://github.com/whitacrej/Python-Vibe-Coding-ArcGIS/blob/main/Notebooks/Images/string_slice.png?raw=true) |"
   ]
  },
  {
   "cell_type": "code",
   "execution_count": null,
   "metadata": {
    "scrolled": true
   },
   "outputs": [],
   "source": [
    "# Test math with strings?? Yup! Concatenation!\n",
    "print('cheese ' + 'whiz') # Note the space...\n",
    "print('cheese' * 3) # Note no space..."
   ]
  },
  {
   "cell_type": "code",
   "execution_count": null,
   "metadata": {
    "scrolled": true
   },
   "outputs": [],
   "source": [
    "# Test some slicing operations\n",
    "print('cheese'[1:4])"
   ]
  },
  {
   "cell_type": "code",
   "execution_count": null,
   "metadata": {
    "scrolled": true
   },
   "outputs": [],
   "source": [
    "print('cheese'[:2])"
   ]
  },
  {
   "cell_type": "code",
   "execution_count": null,
   "metadata": {
    "scrolled": true
   },
   "outputs": [],
   "source": [
    "print('cheese'[:-2])"
   ]
  },
  {
   "cell_type": "code",
   "execution_count": null,
   "metadata": {
    "scrolled": true
   },
   "outputs": [],
   "source": [
    "print('cheese'[2:])"
   ]
  },
  {
   "cell_type": "code",
   "execution_count": null,
   "metadata": {
    "scrolled": true
   },
   "outputs": [],
   "source": [
    "print('cheese'[-2:])"
   ]
  },
  {
   "cell_type": "markdown",
   "metadata": {
    "collapsed": true,
    "jupyter": {
     "outputs_hidden": true
    }
   },
   "source": [
    "### Numbers\n",
    "[**Top**](#Outline)"
   ]
  },
  {
   "cell_type": "markdown",
   "metadata": {
    "collapsed": true,
    "jupyter": {
     "outputs_hidden": true
    }
   },
   "source": [
    "* Number datatypes store numeric values that act like numbers (e.g., for math operations)\n",
    "\n",
    "\n",
    "* **Integer**: Number **without** decimal\n",
    "\n",
    "\n",
    "* **Float**: Number **with** decimal\n",
    "\n",
    "\n",
    "* What can you do with numbers?\n",
    "    * Simple math - e.g: `5 + 7 – 3`\n",
    "    * Math with variables - e.g.:\n",
    "        \n",
    "```python\n",
    "\n",
    "    three = 3\n",
    "    5 + 7 – three\n",
    "```\n",
    "\n",
    "\n",
    "**In ArcGIS, feature class attribute tables will have long and short integers and float and double precision numbers. In Python, integers are treated like long and float is treated like double precision.**"
   ]
  },
  {
   "cell_type": "code",
   "execution_count": null,
   "metadata": {},
   "outputs": [],
   "source": [
    "# All integers\n",
    "print(5 + 7 - 3)"
   ]
  },
  {
   "cell_type": "code",
   "execution_count": null,
   "metadata": {},
   "outputs": [],
   "source": [
    "# Float!\n",
    "three = 3.3\n",
    "print(type(three))"
   ]
  },
  {
   "cell_type": "code",
   "execution_count": null,
   "metadata": {},
   "outputs": [],
   "source": [
    "# Converts to a float...\n",
    "print(5 + 7 - three)"
   ]
  },
  {
   "cell_type": "markdown",
   "metadata": {
    "collapsed": true,
    "jupyter": {
     "outputs_hidden": true
    }
   },
   "source": [
    "### Booleans\n",
    "[**Top**](#Outline)"
   ]
  },
  {
   "cell_type": "markdown",
   "metadata": {
    "collapsed": true,
    "jupyter": {
     "outputs_hidden": true
    }
   },
   "source": [
    "* Boolean values are `True` or `False`\n",
    "* Used for evaluating whether something is `True` or `False`\n",
    "* The following will be evaluated as `False`:\n",
    "    * `None`\n",
    "    * `False`\n",
    "    * Zero of any numeric type (i.e., `0`)\n",
    "    * Any empty sequence (e.g., `''`,`()`,`[]`)\n",
    "    * Any empty dictionary (e.g., `{}`)\n",
    "* Use the `bool()` function to evaluate a variable's Boolean value"
   ]
  },
  {
   "cell_type": "code",
   "execution_count": null,
   "metadata": {},
   "outputs": [],
   "source": [
    "# What Boolean value will each variable evaluate to? \n",
    "a = True # Note Title Case!\n",
    "print(bool(a))"
   ]
  },
  {
   "cell_type": "code",
   "execution_count": null,
   "metadata": {},
   "outputs": [],
   "source": [
    "b = 'False'\n",
    "print(bool(b))"
   ]
  },
  {
   "cell_type": "code",
   "execution_count": null,
   "metadata": {},
   "outputs": [],
   "source": [
    "c = ''\n",
    "print(bool(c))"
   ]
  },
  {
   "cell_type": "code",
   "execution_count": null,
   "metadata": {},
   "outputs": [],
   "source": [
    "d = 0\n",
    "print(bool(d))"
   ]
  },
  {
   "cell_type": "code",
   "execution_count": null,
   "metadata": {},
   "outputs": [],
   "source": [
    "e = 1 # Try negative 1!\n",
    "print(bool(e))"
   ]
  },
  {
   "cell_type": "code",
   "execution_count": null,
   "metadata": {},
   "outputs": [],
   "source": [
    "f = [1]\n",
    "print(bool(f))"
   ]
  },
  {
   "cell_type": "code",
   "execution_count": null,
   "metadata": {},
   "outputs": [],
   "source": [
    "g = []\n",
    "print(bool(g))"
   ]
  },
  {
   "cell_type": "markdown",
   "metadata": {},
   "source": [
    "### Lists\n",
    "[**Top**](#Outline)"
   ]
  },
  {
   "cell_type": "markdown",
   "metadata": {},
   "source": [
    "* What is a list?\n",
    "    * Series of ordered items or objects\n",
    "    * Compound data type\n",
    "    * Enclosed by square brackets `[]` and items separated with commas `,`\n",
    "    * Lists are mutable (i.e., items and number of items can be changed, replaced, added, or deleted)\n",
    "\n",
    "\n",
    "* How are lists used?\n",
    "    * Find one or a range of items\n",
    "```python\n",
    "\n",
    "        fruit_list = ['apples', 'oranges', 'bananas']\n",
    "        fruit_list[1] # returns oranges\n",
    "        fruit_list[1:2] # returns ['oranges']\n",
    "        fruit_list[1:3] # returns ['oranges', 'bananas']\n",
    "```\n",
    "\n",
    "    * Iterate through it (use a loop)\n",
    "```python\n",
    "\n",
    "        fruit_list = ['apples', 'oranges', 'bananas']\n",
    "\n",
    "        for fruit in fruit_list:\n",
    "        # Do something...\n",
    "            print(fruit)\n",
    "```\n",
    "    * Change list values\n",
    "```python\n",
    "\n",
    "        fruit_list[1] = 'peaches'\n",
    "        fruit_list.append('cherries')\n",
    "        fruit_list.remove('apples')\n",
    "\n",
    "        print(fruit_list) # returns ['peaches', 'bananas', 'cherries']\n",
    "```\n",
    "\n",
    "**See [Tutorials Point: Python - Lists](https://www.tutorialspoint.com/python/python_lists.htm)**"
   ]
  },
  {
   "cell_type": "code",
   "execution_count": null,
   "metadata": {},
   "outputs": [],
   "source": [
    "# Create a list\n",
    "fruit_list = ['apples', 'oranges', 'bananas']\n",
    "print(fruit_list)"
   ]
  },
  {
   "cell_type": "code",
   "execution_count": null,
   "metadata": {},
   "outputs": [],
   "source": [
    "# How long is the list?\n",
    "print(len(fruit_list))"
   ]
  },
  {
   "cell_type": "code",
   "execution_count": null,
   "metadata": {},
   "outputs": [],
   "source": [
    "# Test list slicing\n",
    "print(fruit_list[1])"
   ]
  },
  {
   "cell_type": "code",
   "execution_count": null,
   "metadata": {},
   "outputs": [],
   "source": [
    "print(fruit_list[-1])"
   ]
  },
  {
   "cell_type": "code",
   "execution_count": null,
   "metadata": {},
   "outputs": [],
   "source": [
    "# Why does this look different?\n",
    "print(fruit_list[1:2])"
   ]
  },
  {
   "cell_type": "code",
   "execution_count": null,
   "metadata": {},
   "outputs": [],
   "source": [
    "print(fruit_list[1:3])"
   ]
  },
  {
   "cell_type": "code",
   "execution_count": null,
   "metadata": {},
   "outputs": [],
   "source": [
    "# Iterate over the list with a for loop...more on this later        \n",
    "for fruit in fruit_list:\n",
    "    print(fruit)"
   ]
  },
  {
   "cell_type": "code",
   "execution_count": null,
   "metadata": {},
   "outputs": [],
   "source": [
    "# Change the list...\n",
    "fruit_list[1] = 'peaches'\n",
    "fruit_list.append('cherries') # This is called a 'Method'...more on that later!\n",
    "fruit_list.remove('apples')\n",
    "del fruit_list[1]"
   ]
  },
  {
   "cell_type": "code",
   "execution_count": null,
   "metadata": {},
   "outputs": [],
   "source": [
    "# What happened to the original fruits?\n",
    "print(fruit_list)"
   ]
  },
  {
   "cell_type": "markdown",
   "metadata": {},
   "source": [
    "### Tuples\n",
    "[**Top**](#Outline)"
   ]
  },
  {
   "cell_type": "markdown",
   "metadata": {},
   "source": [
    "* What is a tuple?\n",
    "    * Similar to a list, but enclosed by parentheses `()`\n",
    "    * Immutable (i.e., not changeable; read-only)\n",
    "\n",
    "\n",
    "* How are tuples used?\n",
    "    * Find one or a range of items\n",
    "```python\n",
    "\n",
    "        fruit_tuple = ('apples', 'oranges', 'bananas')\n",
    "        fruit_tuple[1] # returns oranges\n",
    "        fruit_tuple[1:2] # returns (oranges,)\n",
    "        fruit_tuple[1:3] # returns (oranges, bananas)\n",
    "```\n",
    "    * Iterate through it (use a loop)\n",
    "```python\n",
    "\n",
    "        fruit_tuple = ('apples', 'oranges', 'bananas'])\n",
    "\n",
    "        for fruit in fruit_tuple:\n",
    "        # Do something...\n",
    "            print(fruit)\n",
    "```\n",
    "\n",
    "**Tuples are important when you need to preserve data that you don't want to change. In ArcGIS, cursors always create tuples for this reason...more on that later.**"
   ]
  },
  {
   "cell_type": "code",
   "execution_count": null,
   "metadata": {},
   "outputs": [],
   "source": [
    "# Create a tuple\n",
    "fruit_tuple = ('apples', 'oranges', 'bananas')\n",
    "print(fruit_tuple)"
   ]
  },
  {
   "cell_type": "code",
   "execution_count": null,
   "metadata": {},
   "outputs": [],
   "source": [
    "# Test tuple slicing\n",
    "print(fruit_tuple[1])"
   ]
  },
  {
   "cell_type": "code",
   "execution_count": null,
   "metadata": {},
   "outputs": [],
   "source": [
    "print(fruit_tuple[1:2]) # Is there a comma at the end? Why is that?"
   ]
  },
  {
   "cell_type": "code",
   "execution_count": null,
   "metadata": {},
   "outputs": [],
   "source": [
    "print(fruit_tuple[1:3])"
   ]
  },
  {
   "cell_type": "code",
   "execution_count": null,
   "metadata": {},
   "outputs": [],
   "source": [
    "# Iterate over the tuple with a for loop...more on this later        \n",
    "for fruit in fruit_tuple:\n",
    "    print(fruit)"
   ]
  },
  {
   "cell_type": "code",
   "execution_count": null,
   "metadata": {},
   "outputs": [],
   "source": [
    "# Try to assign a value to a index 1 of the tuple...oops!\n",
    "fruit_tuple[1] = 'peaches' # Invalid syntax with tuple, this will produce an error, but it will work for a list"
   ]
  },
  {
   "cell_type": "markdown",
   "metadata": {},
   "source": [
    "### Sets\n",
    "[**Top**](#Outline)"
   ]
  },
  {
   "cell_type": "markdown",
   "metadata": {},
   "source": [
    "* What is a set?\n",
    "    * Unordered collection with no duplicate elements\n",
    "    * Curly braces `{}` or the `set()` function can be used to create sets\n",
    "    * Note: to create an empty set you have to use `set()`, not `{}`; the latter creates an empty dictionary, a data structure that we discuss in the next section.\n",
    "\n",
    "* How are sets uses?\n",
    "    * Basic uses include membership testing and eliminating duplicate entries\n",
    "```python\n",
    "\n",
    "        basket = {'apple', 'orange', 'apple', 'pear', 'orange', 'banana'} # Returns unique list items (i.e., no duplicates: {'orange', 'banana', 'pear', 'apple'}\n",
    "\n",
    "        basket_list = ['apple', 'orange', 'apple', 'pear', 'orange', 'banana']\n",
    "        basket = set(basket_list) # Converts a list to a set and returns unique list items: {'orange', 'banana', 'pear', 'apple'}\n",
    "\n",
    "        unique_chars = set('abracadabra') # Returns unique characters: {'a', 'r', 'b', 'c', 'd'} (Are the characters in order?)\n",
    "```\n",
    "\n",
    "    * Set objects also support mathematical operations like union, intersection, difference, and symmetric difference.\n",
    "```python\n",
    "\n",
    "        a = set('abracadabra')\n",
    "        b = set('alacazam')\n",
    "\n",
    "        print(a) # Returns unique letters in a: {'a', 'r', 'b', 'c', 'd'}\n",
    "\n",
    "        print(a - b) # Returns letters in a but not in b (difference): {'r', 'd', 'b'}\n",
    "\n",
    "        print(a | b) # Returns letters in a or b or both (union): {'a', 'c', 'r', 'd', 'b', 'm', 'z', 'l'}\n",
    "\n",
    "        print(a & b) # Returns letters in both a and b (intersect): {'a', 'c'}\n",
    "\n",
    "        print(a ^ b) # Returns letters in a or b but not both (symmetric difference): {'r', 'd', 'b', 'm', 'z', 'l'}\n",
    "```\n",
    "\n",
    "**Note: Sets are good to know about, but we will not work with them in much detail in this workshop.**"
   ]
  },
  {
   "cell_type": "code",
   "execution_count": null,
   "metadata": {},
   "outputs": [],
   "source": [
    "# Create a set...this is uncommon\n",
    "basket_set = {'apple', 'orange', 'apple', 'pear', 'orange', 'banana'}\n",
    "print(basket_set)"
   ]
  },
  {
   "cell_type": "code",
   "execution_count": null,
   "metadata": {},
   "outputs": [],
   "source": [
    "# Convert a list to a set...this is VERY common!\n",
    "basket_list = ['apple', 'orange', 'apple', 'pear', 'orange', 'banana']\n",
    "basket_set = set(basket_list)\n",
    "print(basket_set)"
   ]
  },
  {
   "cell_type": "code",
   "execution_count": null,
   "metadata": {},
   "outputs": [],
   "source": [
    "# Convert a set to a list...this is also VERY common!\n",
    "basket_list_unique = list(basket_set)\n",
    "print(basket_list_unique)"
   ]
  },
  {
   "cell_type": "code",
   "execution_count": null,
   "metadata": {},
   "outputs": [],
   "source": [
    "# Test if a value is in the set\n",
    "print('orange' in basket_set)\n",
    "print('crabgrass' in basket_set)"
   ]
  },
  {
   "cell_type": "code",
   "execution_count": null,
   "metadata": {},
   "outputs": [],
   "source": [
    "# Perform set operations on unique letters from two words\n",
    "a = set('abracadabra')\n",
    "b = set('alacazam')\n",
    "\n",
    "print(a)\n",
    "print(b)"
   ]
  },
  {
   "cell_type": "code",
   "execution_count": null,
   "metadata": {},
   "outputs": [],
   "source": [
    "# Difference (in a, not in b \n",
    "print(a - b)"
   ]
  },
  {
   "cell_type": "code",
   "execution_count": null,
   "metadata": {},
   "outputs": [],
   "source": [
    "# Union (in a or b)\n",
    "print(a | b)"
   ]
  },
  {
   "cell_type": "code",
   "execution_count": null,
   "metadata": {},
   "outputs": [],
   "source": [
    "# Intersect (in a and b)\n",
    "print(a & b)"
   ]
  },
  {
   "cell_type": "code",
   "execution_count": null,
   "metadata": {},
   "outputs": [],
   "source": [
    "# Symmetric difference (not (in a and b))\n",
    "print(a ^ b)"
   ]
  },
  {
   "cell_type": "markdown",
   "metadata": {},
   "source": [
    "### Dictionaries\n",
    "[**Top**](#Outline)"
   ]
  },
  {
   "cell_type": "markdown",
   "metadata": {},
   "source": [
    "* What is a dictionary?\n",
    "    * An ordered set of `key:value` pairs enclosed by curly brackets `{}`\n",
    "        * [As of version 3.7, dictionaries are ordered](https://docs.python.org/3.7/whatsnew/3.7.html). They were unordered previously!\n",
    "    * Indexed by **Keys** that must be unique values and are typically strings (i.e., in quotes), but can be other Python data types\n",
    "    * Each key is a **Value** that can be any Python object\n",
    "    * Sometimes referred to as 'associative memories' or 'associative arrays'\n",
    "\n",
    "\n",
    "* How are dictionaries used?\n",
    "    * Find the value that goes with a key\n",
    "```python\n",
    "\n",
    "        dict_ex = {'key':'value', 'lat':39.98, 'long': -89.65}\n",
    "        dict_ex['key'] # Returns value\n",
    "        dict_ex['lat'] # Returns 39.98\n",
    "        dict_ex['long'] # Returns -89.65\n",
    "```\n",
    "    * Get a list of keys\n",
    "```python\n",
    "\n",
    "        dict_ex.keys() # Returns dict_keys(['key', 'lat', 'long'])\n",
    "        list(dict_ex) # Returns ['key', 'lat', 'long']\n",
    "```\n",
    "\n",
    "    * Get a list of values\n",
    "```python\n",
    "\n",
    "        dict_ex.values() # returns ['value', 39.98, -89.65]\n",
    "```\n",
    "\n",
    "    \n",
    "**Note: Dictionaries are good to know about, but we will not work with them in much detail in this workshop.**"
   ]
  },
  {
   "cell_type": "code",
   "execution_count": null,
   "metadata": {},
   "outputs": [],
   "source": [
    "# Create a dictionary\n",
    "dict_ex = {'key':'value', 'lat':39.98, 'long': -89.65}"
   ]
  },
  {
   "cell_type": "code",
   "execution_count": null,
   "metadata": {},
   "outputs": [],
   "source": [
    "# Get dictionary values by key\n",
    "print(dict_ex['key'])\n",
    "print(dict_ex['lat'])\n",
    "print(dict_ex['long'])"
   ]
  },
  {
   "cell_type": "code",
   "execution_count": null,
   "metadata": {},
   "outputs": [],
   "source": [
    "# Get dictionary keys\n",
    "print(dict_ex.keys())\n",
    "print(list(dict_ex))"
   ]
  },
  {
   "cell_type": "code",
   "execution_count": null,
   "metadata": {},
   "outputs": [],
   "source": [
    "# Get all dictionary values\n",
    "print(dict_ex.values())"
   ]
  },
  {
   "cell_type": "markdown",
   "metadata": {
    "collapsed": true,
    "jupyter": {
     "outputs_hidden": true
    }
   },
   "source": [
    "## Data Type Conversion\n",
    "[**Top**](#Outline)"
   ]
  },
  {
   "cell_type": "markdown",
   "metadata": {
    "collapsed": true,
    "jupyter": {
     "outputs_hidden": true
    }
   },
   "source": [
    "* Converting between data types is common\n",
    "* There are built-in functions to deal with this\n",
    "* Example: You want to concatenate a numerical value into a string\n",
    "* There are also functions to determine what the data type is of a variable"
   ]
  },
  {
   "cell_type": "code",
   "execution_count": null,
   "metadata": {},
   "outputs": [],
   "source": [
    "# Run the following code...What happens?\n",
    "x = 99\n",
    "print(\"There are \" + x + \" files.\")"
   ]
  },
  {
   "cell_type": "code",
   "execution_count": null,
   "metadata": {},
   "outputs": [],
   "source": [
    "# Change x to be str(x)\n",
    "print(\"There are \" + str(x) + \" files.\")"
   ]
  },
  {
   "cell_type": "code",
   "execution_count": null,
   "metadata": {},
   "outputs": [],
   "source": [
    "# Create different data type variables \n",
    "x = 99\n",
    "s = \"99\"\n",
    "l = [s, x]\n",
    "t = (s, x)"
   ]
  },
  {
   "cell_type": "code",
   "execution_count": null,
   "metadata": {},
   "outputs": [],
   "source": [
    "# Convert variable\n",
    "print(type(x))\n",
    "print([str(x)])"
   ]
  },
  {
   "cell_type": "code",
   "execution_count": null,
   "metadata": {},
   "outputs": [],
   "source": [
    "print(type(s))\n",
    "print([int(s)])"
   ]
  },
  {
   "cell_type": "code",
   "execution_count": null,
   "metadata": {},
   "outputs": [],
   "source": [
    "print(type(l))\n",
    "print(tuple(l))"
   ]
  },
  {
   "cell_type": "code",
   "execution_count": null,
   "metadata": {},
   "outputs": [],
   "source": [
    "print(type(t))\n",
    "print(list(t))"
   ]
  },
  {
   "cell_type": "code",
   "execution_count": null,
   "metadata": {},
   "outputs": [],
   "source": [
    "# Sometimes there can be errors!!\n",
    "er = '99/100'\n",
    "print([int(er)])"
   ]
  },
  {
   "cell_type": "markdown",
   "metadata": {},
   "source": [
    "## Simple Math with Python\n",
    "[**Top**](#Outline)"
   ]
  },
  {
   "cell_type": "markdown",
   "metadata": {},
   "source": [
    "### Python Arithmetic Operators\n",
    "\n",
    "| Operator | Description | Example |\n",
    "|:--- |:---|:---:|\n",
    "| `+` Addition | Adds values on either side of the operator. | `a + b = 30` |\n",
    "| `-` Subtraction | Subtracts right hand operand from left hand operand. | `a – b = -10` |\n",
    "| `*` Multiplication | Multiplies values on either side of the operator | `a * b = 200` |\n",
    "| `/` Division | Divides left hand operand by right hand operand | `b / a = 2` |\n",
    "| `%` Modulus | Divides left hand operand by right hand operand and returns remainder | `b % a = 0` |\n",
    "| `**` Exponent | Performs exponential (power) calculation on operators | `a**b =10 to the power 20` |\n",
    "| `//` Floor Division | The division of operands where the result is the quotient in which the digits after the decimal point are removed. But if one of the operands is negative, the result is floored, i.e., rounded away from zero (towards negative infinity): | `9//2 = 4 and 9.0//2.0 = 4.0, -11//3 = -4, -11.0//3 = -4.0` |\n",
    "\n",
    "\n",
    "### More Examples\n",
    "\n",
    "|Operator | Explanation | Example | Result |\n",
    "|:---:|:--- |:---:|:---:|\n",
    "| `x + y` | x plus y | `1.5 + 2.5` | `4.0` |\n",
    "| `x - y` | x minus y | `3.3 - 2.2` | `1.1` |\n",
    "| `x * y` | x times y | `2.0 * 2.2` |  `4.4` |\n",
    "| `x / y` | x divided by y | `4.0 / 1.25` | `3.2` |\n",
    "| `x // y` | x divided by y (floor division) | `4.0 // 1.25`| `3.0` |\n",
    "| `x % y` | x modulo y | `8 % 3` | `2` |\n",
    "| `-x` | negative expression of x | `x = 5; -x` | `-5` |\n",
    "| `+x` | x is unchanged | `x = 5; +x` | `5` |\n",
    "| `x ** y` | x raised to the power of y | `2 ** 3` | `8` | \n",
    "\n",
    "\n",
    "**Source: [Calculate Field Python examples](https://pro.arcgis.com/en/pro-app/latest/tool-reference/data-management/calculate-field-examples.htm)**\n",
    "\n",
    "**When performing field calculations with a Python expression, Python math rules are in effect. For example, dividing two integer values will always produce an integer output (3 / 2 = 1). To get decimal output:**\n",
    "\n",
    "* One of the numbers in the operation must be a decimal value: `3.0/2 = 1.5`\n",
    "\n",
    "\n",
    "* Use the float function to explicitly convert the value to a float:\n",
    "\n",
    "\n",
    "```python\n",
    "\n",
    "    float(3)/2 = 1.5\n",
    "\n",
    "    # or\n",
    "\n",
    "    3/float(2) = 1.5\n",
    "```"
   ]
  },
  {
   "cell_type": "code",
   "execution_count": null,
   "metadata": {
    "scrolled": true
   },
   "outputs": [],
   "source": [
    "# Perform Python math\n",
    "print(1.5 + 2.5)"
   ]
  },
  {
   "cell_type": "code",
   "execution_count": null,
   "metadata": {
    "scrolled": true
   },
   "outputs": [],
   "source": [
    "print(3.3 - 2.2) # What the heck is going on here??? Search: python 3.3 - 2.2"
   ]
  },
  {
   "cell_type": "code",
   "execution_count": null,
   "metadata": {
    "scrolled": true
   },
   "outputs": [],
   "source": [
    "print(2.0 * 2.2)"
   ]
  },
  {
   "cell_type": "code",
   "execution_count": null,
   "metadata": {
    "scrolled": true
   },
   "outputs": [],
   "source": [
    "print(4.0 / 1.25)"
   ]
  },
  {
   "cell_type": "code",
   "execution_count": null,
   "metadata": {
    "scrolled": true
   },
   "outputs": [],
   "source": [
    "print(4.0 // 1.2)"
   ]
  },
  {
   "cell_type": "code",
   "execution_count": null,
   "metadata": {
    "scrolled": true
   },
   "outputs": [],
   "source": [
    "print(8 % 3)"
   ]
  },
  {
   "cell_type": "code",
   "execution_count": null,
   "metadata": {
    "scrolled": true
   },
   "outputs": [],
   "source": [
    "print(2 ** 3)"
   ]
  },
  {
   "cell_type": "code",
   "execution_count": null,
   "metadata": {
    "scrolled": true
   },
   "outputs": [],
   "source": [
    "x = 5 \n",
    "print(-x)\n",
    "print(+x)"
   ]
  },
  {
   "cell_type": "code",
   "execution_count": null,
   "metadata": {},
   "outputs": [],
   "source": [
    "# Rounding...may be different than how you were taught! \n",
    "# Search: python how does rounding work? and How does bankers rounding minimize rounding bias\n",
    "print(round(3.5))\n",
    "print(round(4.5))\n",
    "print(round(5.5))"
   ]
  },
  {
   "cell_type": "markdown",
   "metadata": {},
   "source": [
    "## Python Syntax and Style\n",
    "[**Top**](#Outline)"
   ]
  },
  {
   "cell_type": "markdown",
   "metadata": {},
   "source": [
    "### Python Syntax Rules"
   ]
  },
  {
   "cell_type": "markdown",
   "metadata": {},
   "source": [
    "* Variables cannot start with a number or have a space in it\n",
    "\n",
    "```python\n",
    "\n",
    "    1line = 5 # This will not work...\n",
    "\n",
    "    a line = 5 # Neither will this...\n",
    "    \n",
    "```\n",
    "\n",
    "* Here is a list of common ***reserved words***; do **NOT** use these as variable names:\n",
    "    * Basically, if it turns a color when you are done typing it, don’t use it as your variable’s name!\n",
    "    * There are likely many more reserved words!\n",
    "\n",
    "```python\n",
    "\n",
    "    and, del, from, not, while, as, elif, global, or, with, assert, else, if, pass, yield, break, except, import, \n",
    "    print, class, exec, in, raise, continue, finally, is, return, def, for, lambda, try\n",
    "\n",
    "```\n",
    "\n",
    "* Variable name capitalization matters!!\n",
    "\n",
    "```python\n",
    "\n",
    "    Cat != cat\n",
    "    \n",
    "```\n",
    "\n",
    "* Colons and indentation matters!!\n",
    "    * Typically 2 or 4 spaces (represented by '.')\n",
    "    * 4 spaces are preferred (using Tab in the IDE should do this automatically)\n",
    "    \n",
    "```python\n",
    "\n",
    "    # This will not work...\n",
    "    if x\n",
    "    print(x)\n",
    "\n",
    "    # But this will (periods are shown to emphasize the indentation):\n",
    "    if x:\n",
    "    ....print(x)\n",
    "    \n",
    "```\n",
    "\n",
    "* Quotations are a bit tricky, but very cool\n",
    "    * Single (`'`), double (`\"`) and triple-single and triple-double (`'''` or `\"\"\"`) quotes can be used to denote strings\n",
    "    * Make sure to end the string denotation with the same type of quote structure\n",
    "    * Single quotes (`'`) are the easiest to type (no Shift!!), so I default to them usually\n",
    "\n",
    "```python\n",
    "\n",
    "    # Quotation Examples\n",
    "    word1 = 'Dog'\n",
    "    word2 = \"'Dog'\"\n",
    "    word3 = '\"Dog\"'\n",
    "    print(word1, word2, word3)\n",
    "    # The three words above will print: Dog, 'Dog', and \"Dog\"\n",
    "\n",
    "    words1 = 'That's the dog's toy' # Is a syntax error\n",
    "    words2 = \"That's the dog's toy\" # Prints: That's the dog's toy\n",
    "\n",
    "    more_words = \"\"\"She said, \"Good dog!\" And the dog's tail wagged.\"\"\"\n",
    "    # Prints: She said, \"Good dog!\" And the dog's tail wagged.\n",
    "```\n",
    "\n",
    "* Backslashes can be confusing...\n",
    "\n",
    "```python\n",
    "\n",
    "    # These are all the same thing...\n",
    "    r'C:\\data\\things' # I generally prefer this method\n",
    "    'C:\\\\data\\\\things' # I use this method sometimes too\n",
    "    'C:/data/things'\n",
    "    \n",
    "```\n",
    "\n",
    "* Commenting is great!!\n",
    "    * Use it to help document and explain your code...we will do this throughout the workshop and in exercises!\n",
    "    * Comments are not run in code; they are ignored\n",
    "    * Blank lines are also ignored\n",
    "\n",
    "```python\n",
    "\n",
    "    # This is a block comment\n",
    "    ## So is this\n",
    "    ### The blank line below this one will be ignored\n",
    "\n",
    "    \"\"\" This is good for multi-line block comments\n",
    "    Notice that this line is still a comment\n",
    "    Use block comments as much as you need, but not too much\n",
    "    Don't forget to close the multi-line comment\"\"\"\n",
    "\n",
    "    s = 'something' # This is an in-line comment...use these sparingly in your code\n",
    "    \n",
    "```"
   ]
  },
  {
   "cell_type": "markdown",
   "metadata": {},
   "source": [
    "### Python Code Styling"
   ]
  },
  {
   "cell_type": "markdown",
   "metadata": {},
   "source": [
    "#### What is  'Code Style'?\n",
    "\n",
    "* How code is written when more than one possible syntax method is available (e.g., 4-space indentation vs. 2-space indentation)\n",
    "* Code style is determined by conventions and standards\n",
    "* While code may be syntactically correct, it may not be stylistically correct \n",
    "\n",
    "#### Why is Code Style Important?\n",
    "\n",
    "* Code is read much more often than it is written, therefore, it is important **HOW** we write code so that is can be more human-readable\n",
    "* Code style should be consistent and follow industry best practices\n",
    "* Helps to balance human-readability with machine-readability\n",
    "\n",
    "**See:**\n",
    "* **[PEP 8 -- Style Guide for Python Code](https://peps.python.org/pep-0008/)**\n",
    "* **[Google Python Style Guide](https://google.github.io/styleguide/pyguide.html)**\n",
    "\n",
    "#### Naming Conventions\n",
    "\n",
    "* This is more important than you may realize!!!\n",
    "* Familiarize yourself with the different types in the [PEP 8 -- Style Guide for Python Code](https://peps.python.org/pep-0008/)!!\n",
    "* Note that all lowercase and underscores are used OFTEN!!! Prescribed style for variable and function names...Why?\n",
    "    * Easier and faster to type!! No shift keystroke required...\n",
    "    * Easier and faster to read\n",
    "        * Think about when you read UPPERCASE vs. lowercase\n",
    "        * We read lowercase letters WAY more than we read UPPERCASE letters, therefore the brain identifies words better in lowercase\n",
    "* Start using similar naming conventions in your everyday work with file and folder names!!"
   ]
  },
  {
   "cell_type": "markdown",
   "metadata": {},
   "source": [
    "## Conditional Statements and Decision Making\n",
    "[**Top**](#Outline)"
   ]
  },
  {
   "cell_type": "markdown",
   "metadata": {},
   "source": [
    "<img style=\"float: right; padding: 10px\" alt=\"Decision Making\" src=\"https://www.tutorialspoint.com/python/images/decision_making.jpg\" />\n",
    "\n",
    "* Many times, we need code to make decisions\n",
    "* Some decisions are easy, while others are complex\n",
    "* Decisions are made by evaluating whether something is `True` or `False`\n",
    "\n",
    "**Source: [Tutorials Point: Python - Decision Making](https://www.tutorialspoint.com/python/python_decision_making.htm)**"
   ]
  },
  {
   "cell_type": "markdown",
   "metadata": {},
   "source": [
    "### `if` Statements\n",
    "\n",
    "* `if` statement - one decision/option\n",
    "```python\n",
    "\n",
    "    # If 'x' is True\n",
    "    if x == 100: # Note the colon (:) and the double equals sign (==)\n",
    "        \n",
    "        # Do something or many things\n",
    "        x = x + 1 # Note the indentation\n",
    "        print(x)\n",
    "```\n",
    "\n",
    "* `if`...`else` statement - two decisions/options\n",
    "```python\n",
    "\n",
    "    # If 'x' is True\n",
    "    if x == 100:\n",
    "        # Do something or many things\n",
    "        x = x + 1\n",
    "        print(x)\n",
    "\n",
    "    # If 'x' is NOT True\n",
    "    else:\n",
    "        # Do something else\n",
    "        x = x - 1\n",
    "        print(x)\n",
    "```\n",
    "\n",
    "* `if`...`elif`...`else` statement - many decisions/options\n",
    "```python\n",
    "\n",
    "    if x == 100:\n",
    "        x = x + 1\n",
    "        print(x)\n",
    "\n",
    "    # If 'x' is NOT True, try 'y'\n",
    "    elif y == 100:\n",
    "        y = x + y\n",
    "        print(y)\n",
    "\n",
    "    # If 'y' is NOT True, try 'z'\n",
    "    elif z == 100:\n",
    "        z = x ** y\n",
    "        print(z)\n",
    "\n",
    "    # If everything is NOT True\n",
    "    else:\n",
    "        w = y % z\n",
    "        print(w)\n",
    "```\n",
    "\n",
    "* `if` statements can be nested\n",
    "```python\n",
    "\n",
    "    if x == 100:\n",
    "        x = x + 1\n",
    "        print(x)\n",
    "\n",
    "        # If 'x' is True, AND 'y' is True\n",
    "        if y == 100: # ****Notice the second indent!!****\n",
    "            y = x + y\n",
    "            print(y)\n",
    "\n",
    "        # If 'x' is True, but 'y' is NOT True\n",
    "        else:\n",
    "            z = x ** y\n",
    "            print(z)\n",
    "\n",
    "    # If 'x' is NOT True\n",
    "    else:\n",
    "        w = y % z\n",
    "        print(w)\n",
    "```\n",
    "\n",
    "**Note: No `end if` is required like many other coding languages! Just unindent to show the end of the section.**"
   ]
  },
  {
   "cell_type": "markdown",
   "metadata": {},
   "source": [
    "### Comparison Operators\n",
    "\n",
    "| Operator | Description | Example |\n",
    "| :---: | :--- | :---: |\n",
    "| == | If the values of two operands are equal, then the condition becomes true. | (1 == 2) is NOT true |\n",
    "| != | If values of two operands are not equal, then condition becomes true. | (1 != 2) is true |\n",
    "| <> | If values of two operands are not equal, then condition becomes true. *This is the same as != operator, but is deprecated and not valid in Python 3.* | (1 <> 2) is true |\n",
    "| > | If the value of left operand is greater than the value of right operand, then condition becomes true. | (1 > 2) is not true. |\n",
    "| < | If the value of left operand is less than the value of right operand, then condition becomes true. | (1 < 2) is true. |\n",
    "| >= | If the value of left operand is greater than or equal to the value of right operand, then condition becomes true. | (1 >= 2) is not true.|\n",
    "| <= | If the value of left operand is less than or equal to the value of right operand, then condition becomes true. | (1 <= 2) is true. |\n",
    "| and | Called Logical AND operator. If both the operands are true then then condition becomes true. | (a and b) is true |\n",
    "|or | Called Logical OR Operator. If any of the two operands are non zero then then condition becomes true. | (a or b) is true |\n",
    "| not | Called Logical NOT Operator. Use to reverses the logical state of its operand. If a condition is true then Logical NOT operator will make false. | not(a && b) is false |\n",
    "| in | Evaluates to true if it finds a variable in the specified sequence and false otherwise. | x in y, here in results in a 1 if x is a member of sequence y |\n",
    "| not in | Evaluates to true if it does not find a variable in the specified sequence and false otherwise. | x not in y, here not in results in a 1 if x is not a member of sequence y |\n",
    "\n",
    "**Adapted from: [Tutorials Point: Python - Basic Operators](https://www.tutorialspoint.com/python/python_basic_operators.htm)**\n"
   ]
  },
  {
   "cell_type": "code",
   "execution_count": null,
   "metadata": {},
   "outputs": [],
   "source": [
    "# Test conditional statements\n",
    "a = 21\n",
    "b = 10\n",
    "c = 0"
   ]
  },
  {
   "cell_type": "code",
   "execution_count": null,
   "metadata": {},
   "outputs": [],
   "source": [
    "# Equals operator...note double = for comparison\n",
    "if a == b:\n",
    "    print(\"Line 1 - a is equal to b\")\n",
    "else:\n",
    "    print(\"Line 1 - a is not equal to b\")"
   ]
  },
  {
   "cell_type": "code",
   "execution_count": null,
   "metadata": {},
   "outputs": [],
   "source": [
    "# Not operator\n",
    "if a != b:\n",
    "    print(\"Line 2 - a is not equal to b\")\n",
    "else:\n",
    "    print(\"Line 2 - a is equal to b\")"
   ]
  },
  {
   "cell_type": "code",
   "execution_count": null,
   "metadata": {},
   "outputs": [],
   "source": [
    "# This is not valid in Python 3:\n",
    "if a <> b: \n",
    "   print(\"Line 3 - a is not equal to b\")\n",
    "else:\n",
    "   print(\"Line 3 - a is equal to b\")"
   ]
  },
  {
   "cell_type": "code",
   "execution_count": null,
   "metadata": {},
   "outputs": [],
   "source": [
    "# Less than\n",
    "if a < b:\n",
    "    print(\"Line 4 - a is less than b\")\n",
    "else:\n",
    "    print(\"Line 4 - a is not less than b\")"
   ]
  },
  {
   "cell_type": "code",
   "execution_count": null,
   "metadata": {},
   "outputs": [],
   "source": [
    "# Greater than\n",
    "if a > b:\n",
    "    print(\"Line 5 - a is greater than b\")\n",
    "else:\n",
    "    print(\"Line 5 - a is not greater than b\")"
   ]
  },
  {
   "cell_type": "code",
   "execution_count": null,
   "metadata": {},
   "outputs": [],
   "source": [
    "a = 5;\n",
    "b = 20;"
   ]
  },
  {
   "cell_type": "code",
   "execution_count": null,
   "metadata": {},
   "outputs": [],
   "source": [
    "# Less than or equal to\n",
    "if a <= b:\n",
    "    print(\"Line 6 - a is either less than or equal to  b\")\n",
    "else:\n",
    "    print(\"Line 6 - a is neither less than nor equal to  b\")"
   ]
  },
  {
   "cell_type": "code",
   "execution_count": null,
   "metadata": {},
   "outputs": [],
   "source": [
    "# Greater than or equal to\n",
    "if b >= a:\n",
    "    print(\"Line 7 - b is either greater than or equal to b\")\n",
    "else:\n",
    "    print(\"Line 7 - b is neither greater than nor equal to b\")"
   ]
  },
  {
   "cell_type": "markdown",
   "metadata": {},
   "source": [
    "## Loops\n",
    "[**Top**](#Outline)"
   ]
  },
  {
   "cell_type": "markdown",
   "metadata": {},
   "source": [
    "<img style=\"float: right; padding: 10px\" alt=\"Loop Architecture\" src=\"https://www.tutorialspoint.com/python/images/loop_architecture.jpg\" />\n",
    "\n",
    "* Code is generally executed consecutively\n",
    "* Loops allow for a block of code to be executed several times\n",
    "* Two basic types: `for` and `while` loops\n",
    "\n",
    "**See [Tutorials Point: Python - Loops](https://www.tutorialspoint.com/python/python_loops.htm)**"
   ]
  },
  {
   "cell_type": "markdown",
   "metadata": {},
   "source": [
    "### `for` Loops\n",
    "<img style=\"float: right; padding: 10px\" alt=\"Loop Architecture\" src=\"https://www.tutorialspoint.com/python/images/forloop.jpg\" />\n",
    "\n",
    "* Work on ordered lists and other sequences\n",
    "* Repeats a block of code for each element of the list\n",
    "* When the end of the list is reached, the loop ends\n",
    "\n",
    "```python\n",
    "\n",
    "    for item in list_of_items:\n",
    "        # Do some code...\n",
    "```"
   ]
  },
  {
   "cell_type": "code",
   "execution_count": null,
   "metadata": {},
   "outputs": [],
   "source": [
    "# Test a loop on a list\n",
    "a_list = ['a', 'b', 'c', 'd']\n",
    "\n",
    "for item in a_list:\n",
    "    print(item)"
   ]
  },
  {
   "cell_type": "markdown",
   "metadata": {},
   "source": [
    "### `while` Loops\n",
    "<img style=\"float: right; padding: 10px\" alt=\"Loop Architecture\" src=\"https://www.tutorialspoint.com/python/images/while.jpg\" />\n",
    "\n",
    "* Executes the code block while a given condition is true\n",
    "* Requires an exit condition, otherwise it could be an infinite loop (this is bad!!)\n",
    "\n",
    "```python\n",
    "\n",
    "    i = 0 # This is called a sentry variable\n",
    "    while i <= 10:\n",
    "        print(i)\n",
    "        i += 1 # Increment the sentry variable to ensure the exit condition\n",
    "```\n",
    "\n",
    "\n",
    "`i += 1` *is another way to increment a numeric value by a constant value (in this case `1`).*\n",
    "\n",
    "**See [Tutorials Point: Python Assignment Operators Example](https://www.tutorialspoint.com/python/assignment_operators_example.htm) for other similar augmented operations. Python is full of these types of tricks!**\n"
   ]
  },
  {
   "cell_type": "code",
   "execution_count": null,
   "metadata": {},
   "outputs": [],
   "source": [
    "i = 0\n",
    "\n",
    "while i <= 10:\n",
    "    print(i)\n",
    "    i += 1"
   ]
  },
  {
   "cell_type": "markdown",
   "metadata": {},
   "source": [
    "## Functions\n",
    "[**Top**](#Outline)"
   ]
  },
  {
   "cell_type": "markdown",
   "metadata": {},
   "source": [
    "* Block of organized, reusable code\n",
    "* Performs a single, related action\n",
    "* Good when a function needs to be reused a lot\n",
    "* Many built-in functions (like `print()` and `str()`)\n",
    "* Users can create their own function, commonly referred to as *user-defined* functions\n",
    "\n",
    "### Defining Functions\n",
    "\n",
    "* Function blocks begin with the keyword def followed by the function name and parentheses `()`.\n",
    "\n",
    "\n",
    "* Any input parameters or arguments should be placed within these parentheses. You can also define parameters inside these parentheses.\n",
    "\n",
    "\n",
    "* The first statement of a function can be an optional statement - the documentation string of the function or docstring.\n",
    "\n",
    "\n",
    "* The code block within every function starts with a colon (:) and is indented.\n",
    "\n",
    "\n",
    "* The statement return [expression] exits a function, optionally passing back an expression to the caller. A return statement with no arguments is the same as return None.\n",
    "\n",
    "```python\n",
    "\n",
    "    # Basic Function syntax\n",
    "\n",
    "    def function_name( parameters ):\n",
    "        \"\"\"function_docstring\"\"\" # This is optional, note triple-quotes\n",
    "        # Function code\n",
    "        return # expression\n",
    "```\n",
    "\n",
    "**Source: [Tutorials Point: Python - Functions](https://www.tutorialspoint.com/python/python_functions.htm)**"
   ]
  },
  {
   "cell_type": "code",
   "execution_count": null,
   "metadata": {},
   "outputs": [],
   "source": [
    "def tax_calc(bill, percent):\n",
    "    \"\"\"Calculates percent tax of restaurant bill.\"\"\"\n",
    "    tax = bill * percent\n",
    "    print('Tax: ${:0.2f}'.format(tax))\n",
    "    return tax\n",
    "\n",
    "def tip_calc(bill, percent):\n",
    "    \"\"\"Calculates percent tip of restaurant bill.\"\"\"\n",
    "    tip = bill * percent\n",
    "    print('Tip: ${:0.2f}'.format(tip))\n",
    "    return tip\n",
    "\n",
    "def total_bill(bill, tax, tip):\n",
    "    \"\"\"Calculates the total restaurant bill.\"\"\"\n",
    "    total = bill + tax + tip\n",
    "    print('Total: ${:0.2f}'.format(total))\n",
    "    return total"
   ]
  },
  {
   "cell_type": "code",
   "execution_count": null,
   "metadata": {},
   "outputs": [],
   "source": [
    "# Change the meal_cost value a few times to see how the results change\n",
    "meal_cost = 100\n",
    "tax_perc = 0.08\n",
    "tip_perc = 0.15\n",
    "print('Bill: ${:0.2f}'.format(meal_cost))"
   ]
  },
  {
   "cell_type": "code",
   "execution_count": null,
   "metadata": {},
   "outputs": [],
   "source": [
    "meal_tax = tax_calc(meal_cost, tax_perc)\n",
    "meal_tip = tip_calc(meal_cost, tip_perc)\n",
    "meal_total = total_bill(meal_cost, meal_tax, meal_tip)"
   ]
  },
  {
   "cell_type": "markdown",
   "metadata": {},
   "source": [
    "## Classes and Methods\n",
    "[**Top**](#Outline)"
   ]
  },
  {
   "cell_type": "markdown",
   "metadata": {},
   "source": [
    "* Python is an Object-Oriented Language\n",
    "* Objects are a defined data structure that contain data and code, and that behave in a specific way\n",
    "* Class is:\n",
    "    * A defined prototype for an object that defines a set of attributes that characterize any object of the class\n",
    "    * The attributes are data members (class variables and instance variables) and methods, accessed via dot notation.\n",
    "    * Can have multiple instances in a script\n",
    "* Method is a special kind of function defined in and for the Class\n",
    "\n",
    "**We will work with classes A LOT!! But, we will not create classes.**\n",
    "\n",
    "**Source: [Tutorials Point: Python - Object Oriented](https://www.tutorialspoint.com/python/python_classes_objects.htm)**"
   ]
  },
  {
   "cell_type": "code",
   "execution_count": null,
   "metadata": {},
   "outputs": [],
   "source": [
    "# Create a list\n",
    "fruit_list = ['apples', 'oranges', 'bananas']"
   ]
  },
  {
   "cell_type": "code",
   "execution_count": null,
   "metadata": {},
   "outputs": [],
   "source": [
    "# Check data type\n",
    "print(type(fruit_list)) # What do you notice about the output?"
   ]
  },
  {
   "cell_type": "code",
   "execution_count": null,
   "metadata": {},
   "outputs": [],
   "source": [
    "# Test the list append method\n",
    "fruit_list.append('cherries')\n",
    "print(fruit_list)"
   ]
  },
  {
   "cell_type": "code",
   "execution_count": null,
   "metadata": {},
   "outputs": [],
   "source": [
    "# Let's explore some list methods...use Tab to explore!\n",
    "fruit_list.\n",
    "\n",
    "# Try .count...what else is needed? Search: python list count method"
   ]
  },
  {
   "cell_type": "code",
   "execution_count": null,
   "metadata": {},
   "outputs": [],
   "source": [
    "# Try sorted() vs. .sort...\n",
    "print(sorted(fruit_list))\n",
    "print(fruit_list)"
   ]
  },
  {
   "cell_type": "code",
   "execution_count": null,
   "metadata": {},
   "outputs": [],
   "source": [
    "fruit_list.sort()\n",
    "print(fruit_list)"
   ]
  },
  {
   "cell_type": "markdown",
   "metadata": {},
   "source": [
    "# ***Congratulations***, you're on your way to using Python!!!\n",
    "---"
   ]
  },
  {
   "cell_type": "markdown",
   "metadata": {},
   "source": [
    "> ArcPy is a Python site package that provides a useful and productive way to perform geographic data analysis, data conversion, data management, and map automation with Python.\n",
    "\n",
    "> This package provides a rich and native Python experience offering code completion (type a keyword and a dot to get a pop-up list of properties and methods supported by that keyword; select one to insert it) and reference documentation for each function, module, and class.\n",
    "\n",
    "> The additional power of using ArcPy is that Python is a general-purpose programming language. It is interpreted and dynamically typed and is suited for interactive work and quick prototyping of one-off programs known as scripts while being powerful enough to write large applications in. ArcGIS applications written with ArcPy benefit from the development of additional modules in numerous niches of Python by GIS professionals and programmers from many different disciplines.\n",
    "\n",
    "**From [ArcGIS Pro Help Documentation - What is ArcPy?](https://pro.arcgis.com/en/pro-app/arcpy/get-started/what-is-arcpy-.htm)**"
   ]
  },
  {
   "cell_type": "markdown",
   "metadata": {},
   "source": [
    "### Python in ArcGIS"
   ]
  },
  {
   "cell_type": "markdown",
   "metadata": {},
   "source": [
    "* First introduced at ArcGIS Desktop 9.0 with Python 2 and `arcgisscripting` site package\n",
    "* ArcGIS Desktop 10 introduced `arcpy` site package\n",
    "* ArcGIS Pro uses Python 3 `arcpy` site package\n",
    "* ArcGIS Pro integrates **[Conda](https://docs.conda.io/en/latest/)** to manage Python packages and modules via the **[Python Package Manager](https://pro.arcgis.com/en/pro-app/arcpy/get-started/what-is-conda.htm)**\n",
    "* ArcPy is the primary desktop Python site package designed exclusively for ArcGIS Desktop\n",
    "* **[ArcGIS API for Python](https://pro.arcgis.com/en/pro-app/arcpy/get-started/arcgis-api-for-python.htm)** is designed for ArcGIS Online and ArcGIS Enterprise\n",
    "    * We will not go over this API in this workshop"
   ]
  },
  {
   "cell_type": "markdown",
   "metadata": {},
   "source": [
    "## What is a Python Module?"
   ]
  },
  {
   "cell_type": "markdown",
   "metadata": {},
   "source": [
    "* Extensions that can be imported and used in Python scripts to expand the built-in capabilities\n",
    "* Contain pre-written code to help out with specialized tasks and defines functions, classes and variables for those tasks\n",
    "* Also allows you to logically organize your Python code\n",
    "* Single file consisting of Python code and also includes executable code\n",
    "* Modules are imported into a script using the **`import`** statement\n",
    "* Many times you need to download and install new modules; but ArcGIS Pro includes many of the most popular ones\n",
    "* Also called libraries"
   ]
  },
  {
   "cell_type": "markdown",
   "metadata": {},
   "source": [
    "## What is a Python Site Package?"
   ]
  },
  {
   "cell_type": "markdown",
   "metadata": {},
   "source": [
    "* Like a module, but contains a collections of modules, functions, and classes\n",
    "* Site packages and modules both add functionality to Python"
   ]
  },
  {
   "cell_type": "markdown",
   "metadata": {},
   "source": [
    "## `import` Statements\n",
    "[**Top**](#Outline)"
   ]
  },
  {
   "cell_type": "markdown",
   "metadata": {},
   "source": [
    "* We aren’t able to use everything Python has to offer without importing modules\n",
    "* Only need to import a module once in a script\n",
    "* Customary to import everything at the beginning of your script\n",
    "```python\n",
    "\n",
    "    # Best practice is to stack each import statement\n",
    "    import arcpy\n",
    "    import os\n",
    "    import sys\n",
    "    \n",
    "    # But this is still correct syntax (Remember the Style Guide!!)\n",
    "    import arcpy, os, sys\n",
    "    \n",
    "    # This can sometimes make things simpler; you can use a.whatever instead of arcpy.whatever\n",
    "    import arcpy as a\n",
    "    \n",
    "    # Do this if you only want a specific part of the site package/module\n",
    "    from arcpy import da\n",
    "    \n",
    "    # This also works, but should be used sparingly\n",
    "    from arcpy.sa import *\n",
    "```"
   ]
  },
  {
   "cell_type": "markdown",
   "metadata": {},
   "source": [
    "## Importing ArcPy"
   ]
  },
  {
   "cell_type": "markdown",
   "metadata": {},
   "source": [
    "* To work with ArcPy outside of ArcGIS Pro, you must `import` it\n",
    "* Once imported, you can now use all the modules, functions, classes, methods, and geoprocessing tools\n",
    "\n",
    "**See [Importing ArcPy](https://pro.arcgis.com/en/pro-app/arcpy/get-started/importing-arcpy.htm) for more information**"
   ]
  },
  {
   "cell_type": "code",
   "execution_count": null,
   "metadata": {},
   "outputs": [],
   "source": [
    "# Recommended to import the ArcPy site package and other modules first in your script\n",
    "# This may take a while if you are working outside of ArcGIS\n",
    "\n",
    "import arcpy"
   ]
  },
  {
   "cell_type": "markdown",
   "metadata": {},
   "source": [
    "## ArcPy Help Documentation\n",
    "[**Top**](#Outline)"
   ]
  },
  {
   "cell_type": "markdown",
   "metadata": {},
   "source": [
    "### Python and ArcPy Help\n",
    "* **[ArcGIS Python Help](https://pro.arcgis.com/en/pro-app/arcpy/main/arcgis-pro-arcpy-reference.htm)**\n",
    "* Contains help on functions and classes not listed in the tool documentation\n",
    "* Note the additional modules\n",
    "\n",
    "### Python and ArcPy Geoprocessing Tool Help\n",
    "* Each geoprocessing tool includes syntax and sample code for the Python window and stand-alone scripts\n",
    "* Includes detailed explanations of each parameter\n",
    "* See **[Calculate Field](https://pro.arcgis.com/en/pro-app/tool-reference/data-management/calculate-field.htm)** tool help as an example"
   ]
  }
 ],
 "metadata": {
  "anaconda-cloud": {},
  "kernelspec": {
   "display_name": "ArcGISPro",
   "language": "python",
   "name": "python3"
  },
  "language_info": {
   "file_extension": ".py",
   "mimetype": "text/x-python",
   "name": "python",
   "version": "3.11.10"
  }
 },
 "nbformat": 4,
 "nbformat_minor": 4
}
