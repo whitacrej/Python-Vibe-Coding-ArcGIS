{
 "cells": [
  {
   "attachments": {},
   "cell_type": "markdown",
   "metadata": {},
   "source": [
    "# Python 'Vibe Coding' in ArcGIS\n",
    "---\n",
    "\n",
    "## Description\n",
    "\n",
    "'Vibe coding' is all the rage now…but, what is it and how do you 'vibe code'? This webinar will dive into 'vibe coding' with Python by covering a few different techniques useful for ArcGIS. The demonstrations and the skills covered will break down the barriers to help participants quickly start coding with Python in ArcGIS using the power of AI and 'vibe coding'. We will also go over how you can also use ArcGIS Pro to 'vibe code' (…well, kind of). And the great thing is that little-to-no Python experience is needed to get started! So, whether you want to take your Python coding to the next level, or are just getting started, this is the webinar for you!\n",
    "\n",
    "### Specific Topics Include:\n",
    "* What is 'Vibe Coding'?\n",
    "* How to get started with 'Vibe Coding'\n",
    "* How to use Python in ArcGIS without knowing Python"
   ]
  },
  {
   "cell_type": "markdown",
   "metadata": {},
   "source": [
    "# Outline\n",
    "---"
   ]
  },
  {
   "cell_type": "markdown",
   "metadata": {},
   "source": [
    "<table style=\"width: 95%; margin-left: auto; margin-right: auto;\">\n",
    "<thead>\n",
    "  <tbody>\n",
    "  <tr>\n",
    "    <td style=\"vertical-align: center; padding: 20px; font-size: large;\">\n",
    "\n",
    "[**I. Introduction**](#I.-Introduction)\n",
    "\n",
    "[**II. Data and Software**](#II.-Data-and-Software)\n",
    "* [Downloads](#Downloads)\n",
    "* [ArcGIS Pro](#ArcGIS-Pro)\n",
    "* [ArcGIS Notebooks](#ArcGIS-Notebooks)\n",
    "\n",
    "[**III. Vibe Coding 101**](#III.-Vibe-Coding-101)\n",
    "* [What is Python?](#What-is-Python?)\n",
    "* [Why is Coding Important?](#Why-is-Coding-Important?)\n",
    "* [What is Vibe Coding?](#What-is-Vibe-Coding?)\n",
    "* [The Role of AI in Vibe Coding](#The-Role-of-AI-in-Vibe-Coding)\n",
    "* [Vibe Coding in ArcGIS Pro](#Vibe-Coding-in-ArcGIS-Pro)\n",
    "* [AI Vibe Coding in ArcGIS Pro](#AI-Vibe-Coding-in-ArcGIS-Pro)\n",
    "\n",
    "\n",
    "    </td>\n",
    "  </tr>\n",
    "</tbody>\n",
    "</table>"
   ]
  },
  {
   "cell_type": "markdown",
   "metadata": {},
   "source": [
    "# I. Introduction\n",
    "---\n",
    "[**Top**](#Outline)"
   ]
  },
  {
   "cell_type": "markdown",
   "metadata": {},
   "source": [
    "## AI Prompt: Who is James Whitacre?"
   ]
  },
  {
   "cell_type": "markdown",
   "metadata": {},
   "source": [
    "James Whitacre is a **GIS professional and educator** known for his work in **geospatial technology, cartography, and applied GIS development** — particularly with **Esri’s ArcGIS ecosystem**. He’s been involved in **teaching, applied GIS research, and system design**, often focusing on how **Python scripting, spatial data infrastructure, and automation** can strengthen enterprise GIS workflows.\n",
    "\n",
    "More specifically (based on publicly available professional sources such as LinkedIn and academic pages):\n",
    "\n",
    "* He has served as a **GIS Specialist / Coordinator** in **higher education and government contexts**, helping organizations modernize their geospatial workflows.\n",
    "* His work often bridges **technical GIS implementation (Python, ArcPy, ArcGIS Online/Enterprise)** with **strategic spatial data management**, including collaboration, metadata, and data governance.\n",
    "* He’s been involved in **developing curriculum and training** for students and professionals learning GIS automation and spatial analysis.\n",
    "\n",
    "If you’d like, I can pull **up-to-date public information** (e.g., his current position, organization, and projects) from the web — would you like me to do that?\n",
    "\n",
    "Source: ChatGPT | ChatGPT Source: Likely [LinkedIn](https://www.linkedin.com/in/james-whitacre/)!"
   ]
  },
  {
   "cell_type": "markdown",
   "metadata": {},
   "source": [
    "<img style=\"float: right; padding: 20px\" alt=\"Image of James Whitacre\" src=\"https://github.com/whitacrej/Python-for-ArcGIS/blob/main/Notebooks/Images/JamesWhitacre.jpg?raw=true\" width=\"300\" height=\"300\" />\n",
    "\n",
    "### James Whitacre\n",
    "\n",
    "**Chief, GIS Services Division | Pennsylvania Game Commission**\n",
    "\n",
    "jawhitacre@pa.gov\n",
    "\n",
    "James Whitacre is Chief of the GIS Services Division of the Pennsylvania Game Commission where he leads, manages, and provides vision for the Agency's geospatial and mapping program. Formerly, he was the GIS Research Scientist for the Carnegie Museum of Natural History where he managed the GIS Lab at Powdermill Nature Reserve, the Museum's environmental research center, and supported museum staff and affiliated researchers with geospatial technologies and needs. Whitacre was also the GIS Manager from 2011 to 2014 at the Museum. Before returning to the Museum in 2018, Whitacre was the GIS Specialist for the Main Library at the University of Illinois at Urbana-Champaign where he provided GIS consultations for researchers and scholars, and taught GIS workshops to promote the use of GIS in research. Whitacre holds a Bachelor of Arts in Zoology from Ohio Wesleyan University and a Master of Science in Geography, concentrating on GIS and cartography, from Indiana University of Pennsylvania. Whitacre is former board member and Past President of Keystone GIS and is on the PA GIS Conference Planning Committee. He is also a voting member of the Pennsylvania State Geospatial Coordinating Board (PA GeoBoard), appointed by Pennsylvanian Governor Josh Shapiro."
   ]
  },
  {
   "cell_type": "markdown",
   "metadata": {},
   "source": [
    "## Nothing but Good Python Vibes Here!"
   ]
  },
  {
   "cell_type": "markdown",
   "metadata": {},
   "source": [
    "<img style=\"float: right; padding: 20px\" alt=\"Boot Camp\" src=\"https://media1.tenor.com/m/uagSulvJ9WYAAAAd/dusty-slay-were-having-a-good-time.gif\" width=\"500\" />\n",
    "\n",
    "* We're all here to learn and have a good time!\n",
    "* Lots of information in a short amount of time...your brain might hurt!\n",
    "* You may feel lost at first...practice and perseverance will help (I will try to go slow!)\n",
    "* Have patience...it will take time for it all to settle into your head...and heart!"
   ]
  },
  {
   "cell_type": "markdown",
   "metadata": {},
   "source": [
    "## Philosophy Over Practice"
   ]
  },
  {
   "cell_type": "markdown",
   "metadata": {},
   "source": [
    "* I am not a traditional Python developer...my Python journey comes only through GIS\n",
    "* I will be presenting a philosophy of how to approach Python Vibe Coding in ArcGIS\n",
    "* The focus will be on:\n",
    "    * **Lowering the barrier to entry for Python coding**\n",
    "    * Methods for how to systematically approach Python\n",
    "    * Getting into a Vibe Coding 'flow state'\n",
    "\n",
    "<p style=\"text-align: center; font-size: x-large; font-weight: bold; line-height: 1.25;\">Why do I teach Python?<br>Because of <a href=\"https://www.volvobuses.com/en/news/2019/jul/the-three-point-seat-belt-an-innovation-that-saved-over-1-million-lives.html\" target=\"_blank\">Volvo and Seatbelts</a>!</p>"
   ]
  },
  {
   "cell_type": "markdown",
   "metadata": {},
   "source": [
    "# II. Data and Software\n",
    "---\n",
    "[**Top**](#Outline)"
   ]
  },
  {
   "cell_type": "markdown",
   "metadata": {},
   "source": [
    "## Downloads"
   ]
  },
  {
   "cell_type": "markdown",
   "metadata": {},
   "source": [
    "* Go to repo at **https://github.com/whitacrej/Python-For-ArcGIS**\n",
    "* Click **Code** then click **Download Zip**\n",
    "* **Extract** zip file to your Desktop or other well-known folder"
   ]
  },
  {
   "cell_type": "markdown",
   "metadata": {},
   "source": [
    "## ArcGIS Pro"
   ]
  },
  {
   "cell_type": "markdown",
   "metadata": {},
   "source": [
    "### * Recommended to use latest version 3.5+\n",
    "* Minimum version of 3.0+ required\n",
    "\n",
    "**See [ArcGIS Pro Documentation](https://www.esri.com/en-us/arcgis/products/arcgis-pro/resources)**"
   ]
  },
  {
   "cell_type": "markdown",
   "metadata": {},
   "source": [
    "### ArcGIS Pro vs. ArcMap"
   ]
  },
  {
   "cell_type": "markdown",
   "metadata": {},
   "source": [
    "* Stop using ArcMap! Seriously...it's time! ArcMap is currently in mature support and is being retired March 2026 (see [ArcMap Life Cycle](https://support.esri.com/en-us/products/arcmap/life-cycle))\n",
    "* Oh, you HAVE to use it? Stop...please...\n",
    "    * ArcMap does not use ArcGIS Notebooks...Use a code editor or the Python Window instead\n",
    "    * ArcMap uses Python 2, which is deprecated as of January 2020...just like ArcMap!\n",
    "    * I'll point out a few other things that are different along the way...\n",
    "* No, sorry, I am not going to address ArcMap concern...stop using it..."
   ]
  },
  {
   "cell_type": "markdown",
   "metadata": {},
   "source": [
    "## ArcGIS Notebooks"
   ]
  },
  {
   "cell_type": "markdown",
   "metadata": {},
   "source": [
    "* Built on top of **[Jupyter Notebook](https://jupyter.org/)**\n",
    "* Included and integrated with ArcGIS Pro (starting at version 2.5)\n",
    "* Optimized for ArcGIS Pro and Python 3\n",
    "* Used to easily and quickly write and run code directly in ArcGIS Pro\n",
    "\n",
    "\n",
    "### Python in ArcGIS Notebooks\n",
    "\n",
    "* Can perform analysis and immediately view results in a geographic context, interact with the emerging data, document and automate your workflow, and save it for later use or share it\n",
    "* ALL Python functionality in ArcGIS Pro is available through ArcGIS Notebooks\n",
    "* Provides access to content in your map allowing for interactive workflows\n",
    "\n",
    "\n",
    "### Markdown and HTML in ArcGIS Notebooks\n",
    "\n",
    "* ArcGIS Notebooks utilize Markdown and HTML markup languages to format Markdown cells in a Notebook\n",
    "* Markdown:\n",
    "    * Lightweight markup language that you can use to add formatting elements to plaintext text documents\n",
    "    * One of the world’s most popular markup languages\n",
    "    * Markdown syntax is added to text to indicate which words and phrases should look different\n",
    "* HTML:\n",
    "    * Stands for Hyper Text Markup Language\n",
    "    * The standard markup language for creating Web pages\n",
    "    * Describes the structure of a Web page and tell the browser how to display the content\n",
    "* This Notebook uses Markdown and HTML **EXTENSIVLEY** to make it look the way it does!\n",
    "* We will not go over Markdown in detail, but will a little bit\n",
    "\n",
    "\n",
    "**See:**\n",
    "* **[ArcGIS Notebooks Get Started](https://pro.arcgis.com/en/pro-app/arcpy/get-started/pro-notebooks.htm)**\n",
    "* **[The Markdown Guide](https://www.markdownguide.org/)**\n",
    "* **[W3 Schools HTML Tutorial](https://www.w3schools.com/html/html_intro.asp)**"
   ]
  },
  {
   "cell_type": "markdown",
   "metadata": {},
   "source": [
    "### Create a new ArcGIS Notebook"
   ]
  },
  {
   "cell_type": "markdown",
   "metadata": {},
   "source": [
    "<img style=\"float: right; padding: 20px\" alt=\"ArcGIS Notebook\" width=\"539px\" src=\"https://pro.arcgis.com/en/pro-app/latest/arcpy/get-started/GUID-A23406B5-1690-4694-AC77-6A18D3E8F18C-web.png\" />\n",
    "\n",
    "* Click the **Insert** tab, and click the **New Notebook** dropdown, and click <img style=\"display: inline-block; vertical-align: bottom;\" alt=\"New Notebook\" title=\"New Notebook\" src=\"https://pro.arcgis.com/en/pro-app/latest/arcpy/get-started/GUID-81D9C66A-5C7F-49D4-9F62-0CDDD212114F-web.png\" width=\"20\"> **New Notebook**\n",
    "* In the **Catalog Pane**, **right-click on the folder** where you want to create it, click **New** (at the top), the click <img style=\"display: inline-block; vertical-align: bottom;\" alt=\"New Notebook\" title=\"New Notebook\" src=\"https://pro.arcgis.com/en/pro-app/arcpy/get-started/GUID-81D9C66A-5C7F-49D4-9F62-0CDDD212114F-web.png\" width=\"20\"> **Notebook**\n",
    "\n",
    "#### **We will be using ArcGIS Notebooks for nearly all our coding int he workshop!!!**\n",
    "#### **I will go over tips and tricks as we go!**"
   ]
  },
  {
   "cell_type": "markdown",
   "metadata": {},
   "source": [
    "## Following Along..."
   ]
  },
  {
   "cell_type": "markdown",
   "metadata": {},
   "source": [
    "* The screen may be hard to see...so have everything open on your screen to follow along.\n",
    "* Turn Line Numbers on:\n",
    "    * On the Notebook, click **View** and click **Toggle Line Numbers**\n",
    "    * This will help reference specific lines of code when I want to point out something, or if you have a question\n",
    "* Toggle between applications and ArcGIS Pro Views\n",
    "    * Use Alt + Tab keyboard shortcut to toggle between application windows\n",
    "    * Use Ctrl + Tab to toggle between ArcGIS Pro Views (this also works in browsers to toggle between tabs!)\n",
    "\n",
    "<p style=\"text-align: center; font-size: x-large; font-weight: bold; line-height: 1.25;\">A word on keyboard shortcuts...<br>LEARN THEM AND USE THEM!!!<br>I will point some out as we go along.</p>"
   ]
  },
  {
   "cell_type": "markdown",
   "metadata": {},
   "source": [
    "# III. Vibe Coding 101\n",
    "---\n",
    "[**Top**](#Outline)"
   ]
  },
  {
   "cell_type": "markdown",
   "metadata": {},
   "source": [
    "## What is Python?"
   ]
  },
  {
   "cell_type": "markdown",
   "metadata": {},
   "source": [
    "* Python is an interpreted, object-oriented, high-level coding language with dynamic semantics\n",
    "* Good for scripting and for application development\n",
    "* Simple, easy to learn syntax emphasizing readability (**Great for beginners!!!**)\n",
    "* Has high-level built in data structures\n",
    "* Supports modules, libraries, and packages, which encourages program modularity and code reuse\n",
    "* Increases productivity due to no compilation step\n",
    "* Debugging Python programs is easy; often the quickest way to debug a program is to add a few `print` statements to the code\n",
    "* Open-source and freely distributed\n",
    "\n",
    "**See [Python Software Foundation: What is Python Executive Summary](https://www.python.org/doc/essays/blurb/) for more information**\n",
    "\n",
    "**See [Python in ArcGIS Pro](https://pro.arcgis.com/en/pro-app/latest/arcpy/get-started/installing-python-for-arcgis-pro.htm)**"
   ]
  },
  {
   "cell_type": "markdown",
   "metadata": {},
   "source": [
    "### Some General Notes and Tips"
   ]
  },
  {
   "cell_type": "markdown",
   "metadata": {},
   "source": [
    "* Learning a programming language is like learning a new foreign language\n",
    "    * There is grammar, or syntax\n",
    "    * There is vocabulary, or tools, functions, methods, and modules\n",
    "    * It's a new way of thinking\n",
    "* People will refer to good code as being *'Pythonic'*\n",
    "* Just like in ArcGIS, there is more than one way to do many things!\n",
    "* Python and ArcGIS documentation sources are invaluable!!\n",
    "    * You should reference them often and always have them ready when you are actively coding!!\n",
    "    * Developing the skills to read and understand documentation is ESSENTIAL!!\n",
    "    * Developing the skills to search for Python code examples is also ESSENTIAL!! Why write code when someone has already done for you!"
   ]
  },
  {
   "cell_type": "markdown",
   "metadata": {},
   "source": [
    "### Sorry...can't teach you Python in less than one hour!"
   ]
  },
  {
   "cell_type": "markdown",
   "metadata": {},
   "source": [
    "Check out the **Python Basics** ArcGIS Notebook included in the donwload!!"
   ]
  },
  {
   "cell_type": "markdown",
   "metadata": {},
   "source": [
    "## Why is Coding Important?\n",
    "[**Top**](#Outline)"
   ]
  },
  {
   "cell_type": "markdown",
   "metadata": {},
   "source": [
    "1. Coding documents workflows and data transformations in a consistent and standard way\n",
    "\n",
    "    > No more wondering what you did a year ago to create that ALL-IMPORTANT dataset!!\n",
    "\n",
    "2. Coding can be designed to be repeatable and replicable for when the workflow may be used on other files or datasets or when there are updates to data or files\n",
    "\n",
    "3. Coding encourages you to think critically and efficiently about your workflows\n",
    "\n",
    "    > This makes you a better GIS professional and data manager/scientist!\n",
    "\n",
    "5. Coding saves time and ROI in the long run! Maybe not in the short run though\n",
    "\n",
    "    > Sometimes there is delayed gratification!"
   ]
  },
  {
   "cell_type": "markdown",
   "metadata": {},
   "source": [
    "## What is Vibe Coding?\n",
    "[**Top**](#Outline)"
   ]
  },
  {
   "cell_type": "markdown",
   "metadata": {},
   "source": [
    "🧠 1. The Core Idea\n",
    "\n",
    "* Vibe coding means getting into a “flow state” where you code by feel — experimenting, playing, and discovering — rather than following strict, step-by-step instructions.\n",
    "\n",
    "* It’s about understanding concepts deeply enough that you can improvise solutions naturally.\n",
    "\n",
    "* Think of it like jazz improvisation for programmers.\n",
    "\n",
    "🎧 2. What It Looks Like in Practice\n",
    "\n",
    "* You prototype quickly instead of over-engineering.\n",
    "\n",
    "* You try code interactively (e.g., in a Jupyter notebook or ArcGIS Notebook).\n",
    "\n",
    "* You focus on expressing an idea or analysis, not perfect syntax.\n",
    "\n",
    "* You use visuals, data feedback, and intuition to steer your next step.\n",
    "\n",
    "* You might explore data spatially and adjust your code on the fly based on what you see.\n",
    "\n",
    "\n",
    "💡 3. Why It’s Valuable\n",
    "\n",
    "* Encourages creative problem solving\n",
    "\n",
    "* Builds confidence through exploration\n",
    "\n",
    "* Helps learners connect concepts (e.g., spatial joins, projections, filtering) in a natural way\n",
    "\n",
    "* Keeps coding fun and engaging\n",
    "\n",
    "🧩 4. How to Practice It\n",
    "\n",
    "* Use interactive environments (ArcGIS Notebooks, Jupyter, Colab)\n",
    "\n",
    "* Keep a “playground” mindset — small wins, quick feedback\n",
    "\n",
    "* Visualize everything you can\n",
    "\n",
    "* Don’t worry about mistakes early on — just iterate\n",
    "\n",
    "* Refactor later once you “feel” what works\n",
    "\n",
    "\n",
    "\n",
    "💫 The Vibe Takeaway\n",
    "\n",
    "> Explore first, engineer later.\n",
    "\n",
    "> Feel the data, then formalize.\n",
    "\n",
    "> Trust your curiosity — it’s the best debugger.\n",
    "\n",
    "\n",
    "Source: ChatGPT...ChatGPT didn't tell me where it got it's information!"
   ]
  },
  {
   "cell_type": "markdown",
   "metadata": {},
   "source": [
    "## The Role of AI in Vibe Coding\n",
    "[**Top**](#Outline)"
   ]
  },
  {
   "cell_type": "markdown",
   "metadata": {},
   "source": [
    "When you bring AI into Vibe Coding — especially in Python and GIS — the “vibe” transforms from just flowing with your own intuition to flowing collaboratively with an intelligent coding partner.\n",
    "\n",
    "1. AI as Your Flow Partner\n",
    "\n",
    "2. AI Lowers the Friction to Flow\n",
    "\n",
    "3. AI Helps You “See the Next Move”\n",
    "\n",
    "4. AI Expands the Creative Possibility Space\n",
    "\n",
    "> 🎨 The “vibe” becomes a real conversation between human insight and machine pattern recognition."
   ]
  },
  {
   "cell_type": "markdown",
   "metadata": {},
   "source": [
    "### But...is AI always right?"
   ]
  },
  {
   "cell_type": "markdown",
   "metadata": {},
   "source": [
    "* ABSOLUTELY....NOT!!\n",
    "\n",
    "* Always Trust, but Verify!!\n",
    "\n",
    "* Test code form A!...and test again!\n",
    "\n",
    "* Use YOUR OWN intelligence and trust it first!"
   ]
  },
  {
   "cell_type": "markdown",
   "metadata": {},
   "source": [
    "### Ok...but I heard using AI for coding doesn't make you a better coder?"
   ]
  },
  {
   "attachments": {},
   "cell_type": "markdown",
   "metadata": {},
   "source": [
    "* You may be right!! See [Vibe Coding Is Creating Braindead Coders](https://nmn.gl/blog/vibe-coding-gambling) for an interesting perspective!\n",
    "\n",
    "* AI is not (a) God...and we need to treat it with the respect it deserves...\n",
    "\n",
    "    > Kind of like a smart kid in 5th grade who thinks he's smarter than all the adults in the room, but lacks real world experience...\n",
    " \n",
    "    > Sidenote: I may or may not be talking about my own smart 5th grader 🤔\n",
    "\n",
    "* AI is a tool with limitations\n",
    "\n",
    "    > It has it's place, but it should not replace our own coding knowledge and experience\n",
    " \n",
    "    > If something seems off, go to documentation! It generally will fill in the gaps...\n",
    " \n",
    "    > (except maybe the [ArcGIS API for Python](https://developers.arcgis.com/python/latest/)...it's horrendous is some places...that is for another time though!!)\n",
    " \n",
    "* AI is still learning!\n",
    "\n",
    "    > The AI industry is still developing...\n",
    " \n",
    "    > And the ethical debates about the role of AI in society are still developing and being debated...that is also for another discussion!\n",
    " \n",
    "Source: My Own 'Real Intelligence'...I know that 'Intelligence' is debatable here 🤪"
   ]
  },
  {
   "cell_type": "markdown",
   "metadata": {},
   "source": [
    "## Vibe Coding in ArcGIS Pro\n",
    "[**Top**](#Outline)"
   ]
  },
  {
   "cell_type": "markdown",
   "metadata": {},
   "source": [
    "Ok...so you may be thinking, \"How can I possibly 'vibe code' in ArcGIS Pro?\"...\n",
    "\n",
    "Hear me out...you may even realize that you already have the skills to 'vibe code' in ArcGIS Pro, you just never 'Pythonized' it!!\n",
    "\n",
    "### Some of my thoughts about ArcGIS and coding...\n",
    "\n",
    "1. I love coding, but I hate typing code...I will do anything to avoid typing code if I can!\n",
    "\n",
    "    > Sidenote: I don't really hate typing code, but I REALY love copy and paste!\n",
    "\n",
    "2. I like using the the Geoprocessing tool interface\n",
    "\n",
    "    > Filling out the parameters is so satisfying! And they help me make sure I get the parameters correct!\n",
    "\n",
    "3. I hate it when I forget the exact parameters of a Geoprocessing tool or the order in which I ran the tools to get my desired output\n",
    "\n",
    "    > Sidenote: I REALLY DO hate this!! It has caused me MANY hours of lost work, dread and anger 🤬, and sorrow and consternation 🥹 early in my GIS career!\n",
    "    \n",
    "    > This is why I started to learn Python!\n",
    "\n",
    "4. I love that Esri created [Copy Python Command](https://pro.arcgis.com/en/pro-app/latest/help/analysis/geoprocessing/basics/run-geoprocessing-tools.htm#ESRI_SECTION1_14C98A99F1BA47FB976F252C8FC0BE50)\n",
    "    \n",
    "    > This is what enables us to 'Vibe Code' in ArcGIS Pro!"
   ]
  },
  {
   "cell_type": "markdown",
   "metadata": {},
   "source": [
    "### Let's Run Some ArcGIS Pro Tools..."
   ]
  },
  {
   "cell_type": "markdown",
   "metadata": {},
   "source": [
    "* This is where the rubber hits the road with problem solving in GIS...\n",
    "\n",
    "    > This is where the GIS professional gets their ***vibe on!!!***\n",
    "\n",
    "* We will go through a short GIS problem solving process together!"
   ]
  },
  {
   "cell_type": "markdown",
   "metadata": {},
   "source": [
    "### But First, let's discuss the ArcGIS Pro Geoprocessing Options..."
   ]
  },
  {
   "cell_type": "markdown",
   "metadata": {},
   "source": [
    "#### ArcGIS Pro [Geoprocessing Options](https://pro.arcgis.com/en/pro-app/3.1/help/analysis/geoprocessing/basics/geoprocessing-options.htm)\n",
    "\n",
    "* Set options for running geoprocessing tools and scripts\n",
    "    * [X] Allow geoprocessing tools to overwrite existing datasets\n",
    "    * [ ] Remove layers that reference data overwritten by geoprocessing tools\n",
    "    * [X] Add output datasets to an open map\n",
    "    * [X] Display disabled parameters\n",
    "    * [ ] Enable Undo toggled on by default\n",
    "    * [X] Display data paths as shortened names\n",
    "    * [X] Analyze script and model tools for ArcGIS Pro compatibility\n",
    "    * [ ] Open messages window automatically after running a tool"
   ]
  },
  {
   "cell_type": "markdown",
   "metadata": {},
   "source": [
    "### And learn about Pseudo-code..."
   ]
  },
  {
   "cell_type": "markdown",
   "metadata": {},
   "source": [
    "#### What is Pseudo Code?\n",
    "\n",
    "* A plain-language explanation or outline of the script workflow\n",
    "* Helps to organize and plan the script workflow\n",
    "* Allows others reading the code to understand more clearly what is being done\n",
    "* Can be written directly in the code using comments (i.e., '#')\n",
    "\n",
    "\n",
    "#### Note: I am teaching you just one of many methodologies...\n",
    "* You can modify this as much as you want\n",
    "* Find a structure that works for you\n",
    "* Keep it simple"
   ]
  },
  {
   "cell_type": "markdown",
   "metadata": {},
   "source": [
    "### ArcGIS Pro Vibe Coding Scenario:\n",
    "\n",
    "> Your boss wants to estimate the acreage of unconventional well pads in each county for the entire Commonwealth of Pennsylvania. They need the output data as a Excel table."
   ]
  },
  {
   "cell_type": "code",
   "execution_count": null,
   "metadata": {},
   "outputs": [],
   "source": [
    "# Create a new map called 'PA Unconventional Wells' and open it\n",
    "aprx = arcpy.mp.ArcGISProject('CURRENT')\n",
    "m = aprx.createMap('PA Unconventional Wells', 'MAP')\n",
    "m.openView()\n",
    "extent = m.defaultCamera.getExtent()"
   ]
  },
  {
   "cell_type": "code",
   "execution_count": null,
   "metadata": {},
   "outputs": [],
   "source": [
    "# Add PA Unconventional Wells Data to the map\n",
    "arcpy.management.MakeFeatureLayer('https://services2.arcgis.com/eQgAMgHr2CRobt2r/arcgis/rest/services/UnconventionalWellsPA/FeatureServer/0',\n",
    "                                  'Unconventional Wells')\n",
    "# Zoom to Pennsylvania\n",
    "aprx.activeView.camera.setExtent(extent)"
   ]
  },
  {
   "cell_type": "markdown",
   "metadata": {},
   "source": [
    "### Let's Explore the Data...\n",
    "\n",
    "Open the table..."
   ]
  },
  {
   "cell_type": "markdown",
   "metadata": {},
   "source": [
    "### Possible Geoprocessing Tools to Run"
   ]
  },
  {
   "cell_type": "markdown",
   "metadata": {},
   "source": [
    "1. Select ***OR*** Select Layer By Attribute\n",
    "\n",
    "2. Buffer ***OR*** Pairwise Buffer\n",
    "\n",
    "    > Method: Planar or Geodesic\n",
    "  \n",
    "    > Dissolve Type: Which option? What field?\n",
    "\n",
    "3. Summary Statistics ***OR*** Summarize Within ***OR*** Calculate Geometry Attributes\n",
    "\n",
    "4. Table to Excel ***OR*** Export Table\n",
    "\n",
    "\n",
    "Did you feel the vibe?"
   ]
  },
  {
   "cell_type": "code",
   "execution_count": null,
   "metadata": {},
   "outputs": [],
   "source": [
    "%%time\n",
    "# Select Drilled and Producing Wells\n",
    "\n",
    "\n",
    "# Buffer each well 'farm' at 100 m to estimate the well pad area\n",
    "\n",
    "\n",
    "# Summarize acreage of all well pads in each county\n",
    "\n",
    "\n",
    "# Export the summary statistics as a Excel table\n",
    "\n"
   ]
  },
  {
   "cell_type": "markdown",
   "metadata": {
    "jp-MarkdownHeadingCollapsed": true
   },
   "source": [
    "### Answer (Don't Look!!)"
   ]
  },
  {
   "cell_type": "code",
   "execution_count": null,
   "metadata": {},
   "outputs": [],
   "source": [
    "%%time\n",
    "# Select Drilled and Producing Wells\n",
    "arcpy.management.SelectLayerByAttribute(\n",
    "    in_layer_or_view=\"Unconventional Wells\",\n",
    "    selection_type=\"NEW_SELECTION\",\n",
    "    where_clause=\"WELL_STAGE IN ('Drilled', 'Producing')\",\n",
    "    invert_where_clause=None\n",
    ")\n",
    "\n",
    "# Buffer each well 'farm' at 100 m to estimate the well pad area\n",
    "arcpy.analysis.Buffer(\n",
    "    in_features=\"Unconventional Wells\",\n",
    "    out_feature_class=r\"{Copy Home folder Path here...}\\PythonVibeCodingArcGIS.gdb\\UnconventionalWells_Buffer_100m\",\n",
    "    buffer_distance_or_field=\"100 Meters\",\n",
    "    line_side=\"FULL\",\n",
    "    line_end_type=\"ROUND\",\n",
    "    dissolve_option=\"LIST\",\n",
    "    dissolve_field=\"COUNTY\",\n",
    "    method=\"GEODESIC\"\n",
    ")\n",
    "\n",
    "# Calculate acreage of all well pads in each county\n",
    "arcpy.management.CalculateGeometryAttributes(\n",
    "    in_features=\"UnconventionalWells_Buffer_100m\",\n",
    "    geometry_property=\"Area_ac AREA_GEODESIC\",\n",
    "    length_unit=\"\",\n",
    "    area_unit=\"ACRES\",\n",
    "    coordinate_system='PROJCS[\"WGS_1984_Web_Mercator_Auxiliary_Sphere\",GEOGCS[\"GCS_WGS_1984\",DATUM[\"D_WGS_1984\",SPHEROID[\"WGS_1984\",6378137.0,298.257223563]],PRIMEM[\"Greenwich\",0.0],UNIT[\"Degree\",0.0174532925199433]],PROJECTION[\"Mercator_Auxiliary_Sphere\"],PARAMETER[\"False_Easting\",0.0],PARAMETER[\"False_Northing\",0.0],PARAMETER[\"Central_Meridian\",0.0],PARAMETER[\"Standard_Parallel_1\",0.0],PARAMETER[\"Auxiliary_Sphere_Type\",0.0],UNIT[\"Meter\",1.0]]',\n",
    "    coordinate_format=\"SAME_AS_INPUT\"\n",
    ")\n",
    "\n",
    "# Export the summary statistics as a CSV table\n",
    "arcpy.conversion.TableToExcel(\n",
    "    Input_Table=\"UnconventionalWells_Buffer_100m\",\n",
    "    Output_Excel_File=r\"{Copy Home folder Path here...}\\Excel\\Unconventional_Wells_Pad_Area_County.xlsx\",\n",
    "    Use_field_alias_as_column_header=\"NAME\",\n",
    "    Use_domain_and_subtype_description=\"CODE\"\n",
    ")"
   ]
  },
  {
   "cell_type": "markdown",
   "metadata": {},
   "source": [
    "### Need to Run it Again?"
   ]
  },
  {
   "cell_type": "markdown",
   "metadata": {
    "jp-MarkdownHeadingCollapsed": true
   },
   "source": [
    "* 3 months go by and your boss wants an update...\n",
    "\n",
    "* Just run the whoel code block and in about a minute, you have your updated Excel file!!\n",
    "\n",
    "* You get GIS Super Hero status when you reply to the email in less than 5 minutes!\n",
    "\n",
    "> And you filled up your coffee and went to bathroom!\n",
    "\n",
    "* All because you decided to do some ArcGIS Pro Vibe Coding!!"
   ]
  },
  {
   "cell_type": "markdown",
   "metadata": {},
   "source": [
    "### Moral of the story..."
   ]
  },
  {
   "cell_type": "markdown",
   "metadata": {
    "jp-MarkdownHeadingCollapsed": true
   },
   "source": [
    "* Use Geoprocessing tools to build your Python code\n",
    "\n",
    "* Use ArcGIS Notebooks to document GIS workflows\n",
    "\n",
    "* Run (and re-run) your Python code to make updates to data and workflows\n",
    "\n",
    "* Thank your past self for making your future work easier!!\n",
    "\n",
    "* Bask in the Vibe!!"
   ]
  },
  {
   "cell_type": "markdown",
   "metadata": {},
   "source": [
    "## AI Vibe Coding in ArcGIS Pro\n",
    "[**Top**](#Outline)"
   ]
  },
  {
   "cell_type": "markdown",
   "metadata": {},
   "source": [
    "### AI Prompt 1:\n",
    "\n",
    "> How would I determine the break down of land cover types in each county in Maryland?\n",
    "\n",
    "Open Maryland Land Cover Map\n",
    "\n",
    "[ChatGPT Response](https://chatgpt.com/share/68f83cc9-103c-8012-9ba6-01566a485015)"
   ]
  },
  {
   "cell_type": "code",
   "execution_count": null,
   "metadata": {
    "scrolled": true
   },
   "outputs": [],
   "source": [
    "import arcpy\n",
    "\n",
    "counties = 'USA_County' # r\"C:\\data\\Counties_MD.shp\"\n",
    "landcover = 'USA Annual NLCD Land Cover' # r\"C:\\data\\NLCD_2021_LandCover.tif\"\n",
    "out_table = r'C:\\GIS\\GitHub\\Python-Vibe-Coding-ArcGIS\\PythonVibeCodingArcGIS.gdb\\MD_County_LandCover_Area' # r\"C:\\data\\County_LandCover_Area.dbf\"\n",
    "\n",
    "arcpy.sa.TabulateArea(\n",
    "    in_zone_data=counties,\n",
    "    zone_field=\"NAME\",\n",
    "    in_class_data=landcover,\n",
    "    class_field=\"VALUE\",\n",
    "    out_table=out_table\n",
    ")"
   ]
  },
  {
   "cell_type": "code",
   "execution_count": null,
   "metadata": {},
   "outputs": [],
   "source": [
    "import arcpy\n",
    "import os\n",
    "# from arcpy.sa import Clip_management\n",
    "from math import ceil\n",
    "\n",
    "# --- Environment ---\n",
    "arcpy.env.overwriteOutput = True\n",
    "arcpy.CheckOutExtension(\"Spatial\")\n",
    "\n",
    "# --- Input parameters ---\n",
    "state_fc = 'USA_County' #r\"C:\\data\\Maryland.shp\"                # Maryland polygon\n",
    "nlcd_raster = 'USA Annual NLCD Land Cover' # r\"C:\\data\\USA_NLCD_Annual_LandCover.img\"  # Full NLCD raster\n",
    "output_gdb = r'C:\\GIS\\GitHub\\Python-Vibe-Coding-ArcGIS\\PythonVibeCodingArcGIS.gdb' # r\"C:\\data\\NLCD_Mosaic.gdb\"          # Geodatabase for mosaic dataset\n",
    "mosaic_name = \"NLCD_Mosaic\"\n",
    "max_pixels = 20000                                # Maximum pixels per chunk\n",
    "\n",
    "# --- Create geodatabase if not exists ---\n",
    "if not arcpy.Exists(output_gdb):\n",
    "    arcpy.CreateFileGDB_management(os.path.dirname(output_gdb), os.path.basename(output_gdb))\n",
    "\n",
    "# --- Create mosaic dataset ---\n",
    "mosaic_path = os.path.join(output_gdb, mosaic_name)\n",
    "if not arcpy.Exists(mosaic_path):\n",
    "    arcpy.CreateMosaicDataset_management(output_gdb, mosaic_name, coordinate_system=arcpy.Describe(nlcd_raster).spatialReference)\n",
    "\n",
    "# --- Get the bounding box of the state ---\n",
    "state_extent = arcpy.Describe(state_fc).extent\n",
    "xmin, ymin, xmax, ymax = state_extent.XMin, state_extent.YMin, state_extent.XMax, state_extent.YMax\n",
    "\n",
    "# --- Determine number of chunks ---\n",
    "raster_desc = arcpy.Describe(nlcd_raster)\n",
    "cell_size_x = raster_desc.meanCellWidth\n",
    "cell_size_y = raster_desc.meanCellHeight\n",
    "\n",
    "# Calculate number of chunks needed in x and y directions\n",
    "ncols = ceil((xmax - xmin) / (cell_size_x * max_pixels))\n",
    "nrows = ceil((ymax - ymin) / (cell_size_y * max_pixels))\n",
    "\n",
    "print(f\"Splitting state extent into {ncols} columns x {nrows} rows of chunks...\")\n",
    "\n",
    "# --- Loop through chunks ---\n",
    "for i in range(ncols):\n",
    "    for j in range(nrows):\n",
    "        # Calculate chunk extent\n",
    "        chunk_xmin = xmin + i * max_pixels * cell_size_x\n",
    "        chunk_xmax = min(chunk_xmin + max_pixels * cell_size_x, xmax)\n",
    "        chunk_ymin = ymin + j * max_pixels * cell_size_y\n",
    "        chunk_ymax = min(chunk_ymin + max_pixels * cell_size_y, ymax)\n",
    "        \n",
    "        chunk_extent = f\"{chunk_xmin} {chunk_ymin} {chunk_xmax} {chunk_ymax}\"\n",
    "        chunk_name = f\"chunk_{i}_{j}\"\n",
    "        chunk_raster = os.path.join(\"memory\", chunk_name)\n",
    "        \n",
    "        # Clip NLCD raster to chunk\n",
    "        arcpy.Clip_management(nlcd_raster, chunk_extent, chunk_raster, state_fc, \"\", \"ClippingGeometry\", \"NO_MAINTAIN_EXTENT\")\n",
    "        \n",
    "        # Add chunk to mosaic dataset\n",
    "        arcpy.AddRastersToMosaicDataset_management(mosaic_path, \"Raster Dataset\", chunk_raster)\n",
    "        \n",
    "        print(f\"Added chunk {i},{j} to mosaic dataset.\")\n",
    "\n",
    "print(\"✅ Finished adding all chunks to mosaic dataset.\")\n"
   ]
  },
  {
   "cell_type": "code",
   "execution_count": null,
   "metadata": {
    "scrolled": true
   },
   "outputs": [],
   "source": [
    "import arcpy\n",
    "\n",
    "counties = 'USA_County' # r\"C:\\data\\Counties_MD.shp\"\n",
    "landcover = 'NLCD_Mosaic' # 'USA Annual NLCD Land Cover' # r\"C:\\data\\NLCD_2021_LandCover.tif\"\n",
    "out_table = r'C:\\GIS\\GitHub\\Python-Vibe-Coding-ArcGIS\\PythonVibeCodingArcGIS.gdb\\MD_County_LandCover_Area' # r\"C:\\data\\County_LandCover_Area.dbf\"\n",
    "\n",
    "arcpy.sa.TabulateArea(\n",
    "    in_zone_data=counties,\n",
    "    zone_field=\"NAME\",\n",
    "    in_class_data=landcover,\n",
    "    class_field=\"VALUE\",\n",
    "    out_table=out_table\n",
    ")"
   ]
  },
  {
   "cell_type": "markdown",
   "metadata": {},
   "source": [
    "### AI Prompt 2:\n",
    "\n",
    "> In ArcGIS Pro, how would I determine which bird or mammal species are each county in Maryland?\n",
    "\n",
    "Open Maryland Mammals Map\n",
    "\n",
    "[ChatGPT Response](https://chatgpt.com/share/68f84de2-2468-8012-98ed-60d1ab4f62d0)"
   ]
  },
  {
   "cell_type": "code",
   "execution_count": null,
   "metadata": {},
   "outputs": [],
   "source": [
    "import arcpy\n",
    "import os\n",
    "\n",
    "# -----------------------------\n",
    "# Parameters - update these\n",
    "# -----------------------------\n",
    "counties_fc = 'USA_County' # r\"C:\\GIS\\Data\\Maryland_Counties.shp\"  # County polygons\n",
    "birds_fc = 'iNaturalist Observations\\Observations' # r\"C:\\GIS\\Data\\Bird_Observations.shp\"   # Bird points\n",
    "workspace = r'C:\\GIS\\GitHub\\Python-Vibe-Coding-ArcGIS\\PythonVibeCodingArcGIS.gdb' # r\"C:\\GIS\\Outputs\"                       # Output location\n",
    "output_table = os.path.join(workspace, \"MD_County_Mammals\")\n",
    "\n",
    "# -----------------------------\n",
    "# Setup environment\n",
    "# -----------------------------\n",
    "arcpy.env.overwriteOutput = True\n",
    "\n",
    "# -----------------------------\n",
    "# Step 1: Select bird observations within Maryland counties\n",
    "# -----------------------------\n",
    "print(\"Selecting bird observations within Maryland counties...\")\n",
    "\n",
    "# Make a temporary feature layer from the bird observations\n",
    "birds_layer = \"Birds_Layer\"\n",
    "arcpy.management.MakeFeatureLayer(birds_fc, birds_layer)\n",
    "\n",
    "# Select only the bird points that fall inside the county polygons\n",
    "arcpy.management.SelectLayerByLocation(\n",
    "    in_layer=birds_layer,\n",
    "    overlap_type=\"INTERSECT\",\n",
    "    select_features=counties_fc,\n",
    "    selection_type=\"NEW_SELECTION\"\n",
    ")\n",
    "\n",
    "# Copy only the selected bird observations\n",
    "birds_copy = os.path.join(\"memory\", \"Birds_Copy\")\n",
    "arcpy.management.CopyFeatures(birds_layer, birds_copy)\n",
    "print(f\"Copied bird observations within counties to: {birds_copy}\")\n",
    "\n",
    "# -----------------------------\n",
    "# Step 2: Spatial Join (birds → counties)\n",
    "# -----------------------------\n",
    "spatial_join_fc = os.path.join(\"memory\", \"Birds_Counties_Join\")\n",
    "\n",
    "arcpy.analysis.SpatialJoin(\n",
    "    target_features=counties_fc,\n",
    "    join_features=birds_copy,\n",
    "    out_feature_class=spatial_join_fc,\n",
    "    join_operation=\"JOIN_ONE_TO_MANY\",  # one county, many bird points\n",
    "    join_type=\"KEEP_COMMON\",             # only counties with birds\n",
    "    match_option=\"INTERSECT\"\n",
    ")\n",
    "\n",
    "print(\"Spatial join completed.\")\n",
    "\n",
    "# -----------------------------\n",
    "# Step 3: Summarize species by county\n",
    "# -----------------------------\n",
    "county_field = \"NAME\"           # Update if your field name differs\n",
    "species_field = \"scientific_name\"   # Update to match your bird data field\n",
    "\n",
    "arcpy.analysis.Statistics(\n",
    "    in_table=spatial_join_fc,\n",
    "    out_table=output_table,\n",
    "    statistics_fields=[[species_field, \"COUNT\"]],\n",
    "    case_field=[county_field, species_field]\n",
    ")\n",
    "\n",
    "print(f\"Summary table created: {output_table}\")"
   ]
  },
  {
   "cell_type": "code",
   "execution_count": null,
   "metadata": {},
   "outputs": [],
   "source": [
    "# -----------------------------\n",
    "# Step 4: Optional - Export to CSV\n",
    "# -----------------------------\n",
    "csv_output = os.path.splitext(output_table)[0] + \".csv\"\n",
    "arcpy.conversion.TableToTable(\n",
    "    output_table,\n",
    "    os.path.dirname(csv_output),\n",
    "    os.path.basename(csv_output)\n",
    ")\n",
    "print(f\"CSV exported: {csv_output}\")\n",
    "\n",
    "print(\"✅ Processing complete.\")"
   ]
  },
  {
   "cell_type": "markdown",
   "metadata": {},
   "source": [
    "## AI Prompt 3:\n",
    "\n",
    "> Using the ArcGIS API for Python, how do I determine how many feature services are in my ArcGIS Online organization?\n",
    "\n",
    "\n",
    "[ChatGPT Response](https://chatgpt.com/share/68f854be-3f34-8012-be89-e72231257a1a)"
   ]
  },
  {
   "cell_type": "code",
   "execution_count": null,
   "metadata": {},
   "outputs": [],
   "source": [
    "from arcgis.gis import GIS\n",
    "\n",
    "# Connect to your ArcGIS Online organization\n",
    "gis = GIS(\"pro\")\n",
    "\n",
    "# Search for all Feature Services in your organization\n",
    "# We use a wildcard search to include all items\n",
    "search_results = gis.content.search(query='type:\"Feature Service\"', max_items=10000)\n",
    "\n",
    "# Count the number of feature services\n",
    "num_feature_services = len(search_results)\n",
    "\n",
    "print(f\"Your organization has {num_feature_services} feature services.\")"
   ]
  }
 ],
 "metadata": {
  "anaconda-cloud": {},
  "kernelspec": {
   "display_name": "ArcGISPro",
   "language": "python",
   "name": "python3"
  },
  "language_info": {
   "file_extension": ".py",
   "mimetype": "text/x-python",
   "name": "python",
   "version": "3.11.10"
  }
 },
 "nbformat": 4,
 "nbformat_minor": 4
}
